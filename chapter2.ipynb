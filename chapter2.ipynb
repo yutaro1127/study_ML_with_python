{
 "cells": [
  {
   "cell_type": "code",
   "execution_count": null,
   "metadata": {},
   "outputs": [],
   "source": [
    "import numpy as np\n",
    "import matplotlib.pyplot as plt\n",
    "import pandas as pd\n",
    "import mglearn\n",
    "import seaborn as sns\n",
    "sns.set()"
   ]
  },
  {
   "cell_type": "markdown",
   "metadata": {},
   "source": [
    "- データセットの準備"
   ]
  },
  {
   "cell_type": "code",
   "execution_count": null,
   "metadata": {},
   "outputs": [],
   "source": [
    "X,y=mglearn.datasets.make_forge()"
   ]
  },
  {
   "cell_type": "code",
   "execution_count": null,
   "metadata": {},
   "outputs": [],
   "source": [
    "mglearn.discrete_scatter(X[:,0],X[:,1],y)"
   ]
  },
  {
   "cell_type": "code",
   "execution_count": null,
   "metadata": {},
   "outputs": [],
   "source": [
    "df=pd.DataFrame(X,columns=['feature1','feature2'])\n",
    "df['class']=y\n",
    "df.head()"
   ]
  },
  {
   "cell_type": "code",
   "execution_count": null,
   "metadata": {},
   "outputs": [],
   "source": [
    "sns.scatterplot(\n",
    "    data=df,\n",
    "    x='feature1',\n",
    "    y='feature2',\n",
    "    hue='class',\n",
    "    style='class',\n",
    ")"
   ]
  },
  {
   "cell_type": "code",
   "execution_count": null,
   "metadata": {},
   "outputs": [],
   "source": [
    "X,y = mglearn.datasets.make_wave(n_samples=40)\n",
    "df=pd.DataFrame(X,columns=['feature'])\n",
    "df['responce']=y\n",
    "sns.scatterplot(\n",
    "    data=df,\n",
    "    x='feature',\n",
    "    y='responce'\n",
    "    )"
   ]
  },
  {
   "cell_type": "code",
   "execution_count": null,
   "metadata": {},
   "outputs": [],
   "source": [
    "from sklearn.datasets import load_breast_cancer\n",
    "cancer = load_breast_cancer()\n",
    "cancer.keys()"
   ]
  },
  {
   "cell_type": "code",
   "execution_count": null,
   "metadata": {},
   "outputs": [],
   "source": [
    "class_df=pd.DataFrame(cancer['data'],columns=cancer['feature_names'])\n",
    "class_df['target']=cancer['target']\n",
    "class_df['target_name']=class_df['target'].apply(lambda x:cancer['target_names'][x])\n",
    "class_df.head()"
   ]
  },
  {
   "cell_type": "code",
   "execution_count": null,
   "metadata": {},
   "outputs": [],
   "source": [
    "class_df['target_name'].value_counts()"
   ]
  },
  {
   "cell_type": "code",
   "execution_count": null,
   "metadata": {},
   "outputs": [],
   "source": [
    "X,y = mglearn.datasets.load_extended_boston()"
   ]
  },
  {
   "cell_type": "code",
   "execution_count": null,
   "metadata": {},
   "outputs": [],
   "source": [
    "reg_df = pd.DataFrame(X)"
   ]
  },
  {
   "cell_type": "code",
   "execution_count": null,
   "metadata": {},
   "outputs": [],
   "source": [
    "reg_df"
   ]
  },
  {
   "cell_type": "markdown",
   "metadata": {},
   "source": [
    "- k最近傍法"
   ]
  },
  {
   "cell_type": "code",
   "execution_count": null,
   "metadata": {},
   "outputs": [],
   "source": [
    "mglearn.plots.plot_knn_classification(n_neighbors=3)"
   ]
  },
  {
   "cell_type": "code",
   "execution_count": null,
   "metadata": {},
   "outputs": [],
   "source": [
    "from sklearn.model_selection import train_test_split\n",
    "X,y=mglearn.datasets.make_forge()\n",
    "X_train,X_test,y_train,y_test = train_test_split(X,y,random_state=0)"
   ]
  },
  {
   "cell_type": "code",
   "execution_count": null,
   "metadata": {},
   "outputs": [],
   "source": [
    "from sklearn.neighbors import KNeighborsClassifier\n",
    "clf = KNeighborsClassifier(n_neighbors=3)"
   ]
  },
  {
   "cell_type": "code",
   "execution_count": null,
   "metadata": {},
   "outputs": [],
   "source": [
    "clf.fit(X_train,y_train)"
   ]
  },
  {
   "cell_type": "code",
   "execution_count": null,
   "metadata": {},
   "outputs": [],
   "source": [
    "clf.predict(X_test)"
   ]
  },
  {
   "cell_type": "code",
   "execution_count": null,
   "metadata": {},
   "outputs": [],
   "source": [
    "clf.score(X_test,y_test)"
   ]
  },
  {
   "cell_type": "code",
   "execution_count": null,
   "metadata": {},
   "outputs": [],
   "source": [
    "fig,axes = plt.subplots(ncols=3,nrows=1,figsize=(10,3),tight_layout=True)\n",
    "axes = axes.ravel()\n",
    "for n,ax in zip([1,3,9],axes):\n",
    "    clf=KNeighborsClassifier(n_neighbors=n).fit(X_train,y_train)\n",
    "    mglearn.plots.plot_2d_separator(clf,X,fill=True,eps=0.5,ax=ax,alpha=.4)\n",
    "    mglearn.discrete_scatter(X[:,0],X[:,1],y,ax=ax)\n",
    "    ax.set_title(f'{n} neighbor(s)')\n",
    "    ax.set_xlabel('feature 1')\n",
    "    ax.set_ylabel('feature 2')"
   ]
  },
  {
   "cell_type": "code",
   "execution_count": null,
   "metadata": {},
   "outputs": [],
   "source": [
    "X_train,X_test,y_train,y_test=train_test_split(cancer['data'],cancer['target'],random_state=3)\n",
    "training_accuracy=[]\n",
    "test_accuracy=[]\n",
    "for n in range(1,21):\n",
    "    clf=KNeighborsClassifier(n_neighbors=n).fit(X_train,y_train)\n",
    "    training_accuracy.append(clf.score(X_train,y_train))\n",
    "    test_accuracy.append(clf.score(X_test,y_test))\n",
    "\n",
    "sns.lineplot(\n",
    "    data=pd.DataFrame({\n",
    "        'training_accuracy':training_accuracy,\n",
    "        'test_accuracy':test_accuracy\n",
    "    }),\n",
    ")"
   ]
  },
  {
   "cell_type": "code",
   "execution_count": null,
   "metadata": {},
   "outputs": [],
   "source": [
    "mglearn.plots.plot_knn_regression(n_neighbors=1)\n",
    "mglearn.plots.plot_knn_regression(n_neighbors=10)"
   ]
  },
  {
   "cell_type": "code",
   "execution_count": null,
   "metadata": {},
   "outputs": [],
   "source": [
    "from sklearn.neighbors import KNeighborsRegressor\n",
    "X,y = mglearn.datasets.make_wave(n_samples=40)\n",
    "X_train,X_test,y_train,y_test=train_test_split(X,y,random_state=0)\n",
    "reg=KNeighborsRegressor(n_neighbors=3).fit(X_train,y_train)"
   ]
  },
  {
   "cell_type": "code",
   "execution_count": null,
   "metadata": {},
   "outputs": [],
   "source": [
    "reg.score(X_test,y_test)"
   ]
  },
  {
   "cell_type": "code",
   "execution_count": null,
   "metadata": {},
   "outputs": [],
   "source": [
    "np.arange(1,11).reshape(-1,1)"
   ]
  },
  {
   "cell_type": "code",
   "execution_count": null,
   "metadata": {},
   "outputs": [],
   "source": [
    "test_sampls=np.linspace(-3,3,1000).reshape(-1,1)\n",
    "n=[1,3,7,9]\n",
    "fig,axes=plt.subplots(2,2,figsize=(8,8),tight_layout=True)\n",
    "axes=axes.ravel()\n",
    "for n,ax in zip(n,axes):\n",
    "    reg=KNeighborsRegressor(n_neighbors=n).fit(X_train,y_train)\n",
    "    preds=reg.predict(test_sampls)\n",
    "    ax.plot(test_sampls,preds)\n",
    "    ax.scatter(X_train,y_train,marker='^',c='b')\n",
    "    ax.scatter(X_test,y_test,marker='v',c='r')\n",
    "    ax.set_title(f'{n} neighbor')\n",
    "    ax.set_ylabel('responce')\n",
    "    ax.set_xlabel('feature')\n",
    "\n",
    "axes[0].legend(['predict','train','test'],loc='best')\n"
   ]
  },
  {
   "cell_type": "markdown",
   "metadata": {},
   "source": [
    "- 線型モデル"
   ]
  },
  {
   "cell_type": "code",
   "execution_count": null,
   "metadata": {},
   "outputs": [],
   "source": [
    "mglearn.plots.plot_linear_regression_wave()"
   ]
  },
  {
   "cell_type": "code",
   "execution_count": null,
   "metadata": {},
   "outputs": [],
   "source": [
    "from sklearn.linear_model import LinearRegression\n",
    "X,y = mglearn.datasets.make_wave(n_samples=60)\n",
    "X_train,X_test,y_train,y_test=train_test_split(X,y,random_state=0)\n",
    "ln=LinearRegression().fit(X_train,y_train)\n",
    "print(f'coef:{ln.coef_}')\n",
    "print(f'intercept:{ln.intercept_}')\n",
    "print(f'train_score:{np.round(ln.score(X_train,y_train),2)}')\n",
    "print(f'test_score:{np.round(ln.score(X_test,y_test),2)}')"
   ]
  },
  {
   "cell_type": "code",
   "execution_count": null,
   "metadata": {},
   "outputs": [],
   "source": [
    "X,y = mglearn.datasets.load_extended_boston()\n",
    "X_train,X_test,y_train,y_test=train_test_split(X,y,random_state=0)\n",
    "ln=LinearRegression().fit(X_train,y_train)\n",
    "# print(f'coef:{ln.coef_}')\n",
    "# print(f'intercept:{ln.intercept_}')\n",
    "print(f'train_score:{np.round(ln.score(X_train,y_train),2)}')\n",
    "print(f'test_score:{np.round(ln.score(X_test,y_test),2)}')"
   ]
  },
  {
   "cell_type": "markdown",
   "metadata": {},
   "source": [
    "- リッジ回帰  \n",
    "各変数の重みを最小化する、という目線で制約をかける＝L2正則化"
   ]
  },
  {
   "cell_type": "code",
   "execution_count": null,
   "metadata": {},
   "outputs": [],
   "source": [
    "from sklearn.linear_model import Ridge\n",
    "ridge=Ridge().fit(X_train,y_train)\n",
    "# print(f'coef:{ln.coef_}')\n",
    "# print(f'intercept:{ln.intercept_}')\n",
    "print(f'train_score:{np.round(ridge.score(X_train,y_train),2)}')\n",
    "print(f'test_score:{np.round(ridge.score(X_test,y_test),2)}')"
   ]
  },
  {
   "cell_type": "code",
   "execution_count": null,
   "metadata": {},
   "outputs": [],
   "source": [
    "ridge10=Ridge(alpha=10).fit(X_train,y_train)\n",
    "# print(f'coef:{ln.coef_}')\n",
    "# print(f'intercept:{ln.intercept_}')\n",
    "print(f'train_score:{np.round(ridge10.score(X_train,y_train),2)}')\n",
    "print(f'test_score:{np.round(ridge10.score(X_test,y_test),2)}')"
   ]
  },
  {
   "cell_type": "code",
   "execution_count": null,
   "metadata": {},
   "outputs": [],
   "source": [
    "ridge01=Ridge(alpha=.1).fit(X_train,y_train)\n",
    "# print(f'coef:{ln.coef_}')\n",
    "# print(f'intercept:{ln.intercept_}')\n",
    "print(f'train_score:{np.round(ridge01.score(X_train,y_train),2)}')\n",
    "print(f'test_score:{np.round(ridge01.score(X_test,y_test),2)}')"
   ]
  },
  {
   "cell_type": "code",
   "execution_count": null,
   "metadata": {},
   "outputs": [],
   "source": [
    "plt.plot(ridge.coef_,'s',label='alpha=1')\n",
    "plt.plot(ridge10.coef_,'^',label='alpha=10')\n",
    "plt.plot(ridge01.coef_,'v',label='alpha=.1')\n",
    "plt.plot(ln.coef_,'o',label='liner')\n",
    "plt.xlabel('coeficient_no')\n",
    "plt.xlabel('weight')\n",
    "plt.ylim(-25,25)\n",
    "plt.legend()"
   ]
  },
  {
   "cell_type": "code",
   "execution_count": null,
   "metadata": {},
   "outputs": [],
   "source": [
    "mglearn.plots.plot_ridge_n_samples()"
   ]
  },
  {
   "cell_type": "markdown",
   "metadata": {},
   "source": [
    "- Lasso回帰  \n",
    "ridgeよりも変数を削除する（影響しない係数を０にすることを目指す）正則化ロジック。L1正則化"
   ]
  },
  {
   "cell_type": "code",
   "execution_count": null,
   "metadata": {},
   "outputs": [],
   "source": [
    "from sklearn.linear_model import Lasso\n",
    "lasso = Lasso().fit(X_train,y_train)\n",
    "print(f'train_score:{np.round(lasso.score(X_train,y_train),2)}')\n",
    "print(f'test_score:{np.round(lasso.score(X_test,y_test),2)}')\n",
    "print(f'used:{np.sum(lasso.coef_!=0)}')"
   ]
  },
  {
   "cell_type": "code",
   "execution_count": null,
   "metadata": {},
   "outputs": [],
   "source": [
    "lasso001 = Lasso(alpha=0.01,max_iter=100000).fit(X_train,y_train)\n",
    "print(f'train_score:{np.round(lasso001.score(X_train,y_train),2)}')\n",
    "print(f'test_score:{np.round(lasso001.score(X_test,y_test),2)}')\n",
    "print(f'used:{np.sum(lasso001.coef_!=0)}')"
   ]
  },
  {
   "cell_type": "code",
   "execution_count": null,
   "metadata": {},
   "outputs": [],
   "source": [
    "lasso00001 = Lasso(alpha=0.0001,max_iter=100000).fit(X_train,y_train)\n",
    "print(f'train_score:{np.round(lasso00001.score(X_train,y_train),2)}')\n",
    "print(f'test_score:{np.round(lasso00001.score(X_test,y_test),2)}')\n",
    "print(f'used:{np.sum(lasso00001.coef_!=0)}')"
   ]
  },
  {
   "cell_type": "code",
   "execution_count": null,
   "metadata": {},
   "outputs": [],
   "source": [
    "# plt.plot(ridge.coef_,'o',label='ridge alpha=1')\n",
    "plt.plot(lasso.coef_,'s',label='lasso alpha=1')\n",
    "plt.plot(lasso001.coef_,'^',label='lasso alpha=.01')\n",
    "# plt.plot(lasso00001.coef_,'v',label='lasso alpha=.00001')\n",
    "\n",
    "plt.xlabel('coeficient_no')\n",
    "plt.xlabel('weight')\n",
    "# plt.ylim(-25,25)\n",
    "plt.legend()"
   ]
  },
  {
   "cell_type": "markdown",
   "metadata": {},
   "source": [
    "- 線型回帰による分類モデル SVMとロジスティック回帰"
   ]
  },
  {
   "cell_type": "code",
   "execution_count": null,
   "metadata": {},
   "outputs": [],
   "source": [
    "from sklearn.linear_model import LogisticRegression\n",
    "from sklearn.svm import LinearSVC\n",
    "\n",
    "X,y = mglearn.datasets.make_forge()\n",
    "fig,axes = plt.subplots(1,2,figsize=(10,3))\n",
    "\n",
    "for model,ax in zip([LinearSVC(),LogisticRegression()],axes):\n",
    "    clf=model.fit(X,y)\n",
    "    mglearn.plots.plot_2d_separator(clf,X,fill=False,eps=.5,ax=ax,alpha=.7)\n",
    "    mglearn.discrete_scatter(X[:,0],X[:,1],y,ax=ax)\n",
    "    ax.set_title(f'{clf.__class__.__name__}')\n",
    "    ax.set_xlabel('feature0')\n",
    "    ax.set_ylabel('feature1')"
   ]
  },
  {
   "cell_type": "code",
   "execution_count": null,
   "metadata": {},
   "outputs": [],
   "source": [
    "mglearn.plots.plot_linear_svc_regularization()"
   ]
  },
  {
   "cell_type": "code",
   "execution_count": null,
   "metadata": {},
   "outputs": [],
   "source": [
    "from sklearn.datasets import load_breast_cancer\n",
    "cancer = load_breast_cancer()\n",
    "X_train,X_test,y_train,y_test=train_test_split(\n",
    "    cancer.data,\n",
    "    cancer.target,\n",
    "    stratify=cancer.target,\n",
    "    random_state=0\n",
    "    )\n",
    "logreg=LogisticRegression(max_iter=10000).fit(X_train,y_train)\n",
    "print(f'training set score:{logreg.score(X_train,y_train):.2f}')\n",
    "print(f'test set score:{logreg.score(X_test,y_test):.2f}')"
   ]
  },
  {
   "cell_type": "code",
   "execution_count": null,
   "metadata": {},
   "outputs": [],
   "source": [
    "logreg100=LogisticRegression(C=100,max_iter=10000).fit(X_train,y_train)\n",
    "print(f'training set score:{logreg100.score(X_train,y_train):.2f}')\n",
    "print(f'test set score:{logreg100.score(X_test,y_test):.2f}')"
   ]
  },
  {
   "cell_type": "code",
   "execution_count": null,
   "metadata": {},
   "outputs": [],
   "source": [
    "logreg001=LogisticRegression(C=.01,max_iter=10000).fit(X_train,y_train)\n",
    "print(f'training set score:{logreg001.score(X_train,y_train):.2f}')\n",
    "print(f'test set score:{logreg001.score(X_test,y_test):.2f}')"
   ]
  },
  {
   "cell_type": "code",
   "execution_count": null,
   "metadata": {},
   "outputs": [],
   "source": [
    "plt.plot(logreg.coef_.T,'o',label='C=1')\n",
    "plt.plot(logreg100.coef_.T,'^',label='C=100')\n",
    "plt.plot(logreg001.coef_.T,'^',label='C=0.01')\n",
    "plt.legend()\n",
    "plt.xticks(range(cancer.data.shape[1]),cancer.feature_names,rotation=90)"
   ]
  },
  {
   "cell_type": "code",
   "execution_count": null,
   "metadata": {},
   "outputs": [],
   "source": [
    "from sklearn.linear_model import LogisticRegression\n",
    "from sklearn.datasets import load_breast_cancer\n",
    "from sklearn.model_selection import train_test_split\n",
    "cancer = load_breast_cancer()\n",
    "X_train,X_test,y_train,y_test=train_test_split(\n",
    "    cancer.data,\n",
    "    cancer.target,\n",
    "    stratify=cancer.target,\n",
    "    random_state=0\n",
    "    )\n",
    "for C,maker in zip([0.001,1,100],['o','^','v']):\n",
    "    lr_l1=LogisticRegression(C=C,penalty='l1',solver='liblinear').fit(X_train,y_train)\n",
    "    plt.plot(lr_l1.coef_.T,maker,label='C=1')\n"
   ]
  },
  {
   "cell_type": "markdown",
   "metadata": {},
   "source": [
    "- 多クラス分類"
   ]
  },
  {
   "cell_type": "code",
   "execution_count": null,
   "metadata": {},
   "outputs": [],
   "source": [
    "from sklearn.datasets import make_blobs\n",
    "X,y = make_blobs(random_state=42)\n",
    "plt.scatter(x=X[y==0,0],y=X[y==0,1],c='r',marker='o')\n",
    "plt.scatter(x=X[y==1,0],y=X[y==1,1],c='g',marker='^')\n",
    "plt.scatter(x=X[y==2,0],y=X[y==2,1],c='b',marker='v')\n",
    "plt.legend(['class0','class1','class2'])"
   ]
  },
  {
   "cell_type": "code",
   "execution_count": null,
   "metadata": {},
   "outputs": [],
   "source": [
    "\n",
    "from sklearn.svm import LinearSVC\n",
    "linear_svc = LinearSVC().fit(X,y)\n",
    "print(f'coeficient shape:{linear_svc.coef_.shape}')\n",
    "print(f'intercept shape:{linear_svc.intercept_.shape}')"
   ]
  },
  {
   "cell_type": "markdown",
   "metadata": {},
   "source": [
    "分類境界はcoef1*x1+coef2*x2+intercept=0になる線。  \n",
    "x2について解くと、x2=-(coef1*x1+intercept)/coef2"
   ]
  },
  {
   "cell_type": "code",
   "execution_count": null,
   "metadata": {},
   "outputs": [],
   "source": [
    "plt.scatter(x=X[y==0,0],y=X[y==0,1],c='r',marker='o')\n",
    "plt.scatter(x=X[y==1,0],y=X[y==1,1],c='g',marker='^')\n",
    "plt.scatter(x=X[y==2,0],y=X[y==2,1],c='b',marker='v')\n",
    "\n",
    "line=np.linspace(-15,15)\n",
    "for coef,intercept,color in zip(linear_svc.coef_,linear_svc.intercept_,['r','g','b']):\n",
    "    plt.plot(line,-((line*coef[0])+intercept)/coef[1],c=color)\n",
    "\n",
    "plt.xlim(-15,15)\n",
    "plt.ylim(-15,15)\n",
    "\n",
    "plt.legend(['class0','class1','class2','class0 line','class1 line','class2 line'])"
   ]
  },
  {
   "cell_type": "code",
   "execution_count": null,
   "metadata": {},
   "outputs": [],
   "source": [
    "mglearn.plots.plot_2d_classification(linear_svc,X,fill=True,alpha=.7)\n",
    "mglearn.discrete_scatter(X[:,0],X[:,1],y)\n",
    "line=np.linspace(-15,15)\n",
    "for coef,intercept,color in zip(linear_svc.coef_,linear_svc.intercept_,['b','r','g']):\n",
    "    plt.plot(line,-((line*coef[0])+intercept)/coef[1],c=color)\n",
    "plt.legend(['class0','class1','class2','class0 line','class1 line','class2 line'],loc=(1.01,0.3))"
   ]
  },
  {
   "cell_type": "markdown",
   "metadata": {},
   "source": [
    "- ナイーブベイズ  \n",
    "3種類ある。  \n",
    "Gaussianは連続値  \n",
    "bernoulliは2値  \n",
    "Multinomiaは頻度  "
   ]
  },
  {
   "cell_type": "code",
   "execution_count": null,
   "metadata": {},
   "outputs": [],
   "source": [
    "X=np.array([\n",
    "    [0,1,0,1],\n",
    "    [1,0,1,1],\n",
    "    [0,0,0,1],\n",
    "    [1,0,1,0]\n",
    "])\n",
    "y=np.array([0,1,0,1])"
   ]
  },
  {
   "cell_type": "code",
   "execution_count": null,
   "metadata": {},
   "outputs": [],
   "source": [
    "counts={}\n",
    "for label in np.unique(y):\n",
    "    counts[label]=X[y==label].sum(axis=0)\n",
    "print(counts)"
   ]
  },
  {
   "cell_type": "markdown",
   "metadata": {},
   "source": [
    "- 決定木"
   ]
  },
  {
   "cell_type": "code",
   "execution_count": null,
   "metadata": {},
   "outputs": [],
   "source": [
    "from sklearn.datasets import load_breast_cancer\n",
    "cancer = load_breast_cancer()\n",
    "\n",
    "from sklearn.tree import DecisionTreeClassifier\n",
    "from sklearn.model_selection import train_test_split\n",
    "X_train,X_test,y_train,y_test=train_test_split(\n",
    "    cancer.data,cancer.target,stratify=cancer.target,random_state=42\n",
    ")\n",
    "tree=DecisionTreeClassifier(random_state=0).fit(X_train,y_train)\n",
    "print(f'accuracy on training : {tree.score(X_train,y_train):.3f}')\n",
    "print(f'accuracy on test : {tree.score(X_test,y_test):.3f}')"
   ]
  },
  {
   "cell_type": "code",
   "execution_count": null,
   "metadata": {},
   "outputs": [],
   "source": [
    "tree=DecisionTreeClassifier(max_depth=4,random_state=0).fit(X_train,y_train)\n",
    "print(f'accuracy on training : {tree.score(X_train,y_train):.3f}')\n",
    "print(f'accuracy on test : {tree.score(X_test,y_test):.3f}')"
   ]
  },
  {
   "cell_type": "code",
   "execution_count": null,
   "metadata": {},
   "outputs": [],
   "source": [
    "cancer.feature_names"
   ]
  },
  {
   "cell_type": "code",
   "execution_count": null,
   "metadata": {},
   "outputs": [],
   "source": [
    "from sklearn.tree import export_graphviz\n",
    "export_graphviz(\n",
    "    tree,\n",
    "    out_file='tree.dot',\n",
    "    class_names=cancer.target_names,\n",
    "    feature_names=cancer.feature_names,\n",
    "    impurity=False,\n",
    "    filled=True,\n",
    ")"
   ]
  },
  {
   "cell_type": "code",
   "execution_count": null,
   "metadata": {},
   "outputs": [],
   "source": [
    "print(f'feature importances:{tree.feature_importances_}')"
   ]
  },
  {
   "cell_type": "code",
   "execution_count": null,
   "metadata": {},
   "outputs": [],
   "source": [
    "def feature_importances_plot(model):\n",
    "    n_features=cancer.data.shape[1]\n",
    "    plt.barh(range(n_features),model.feature_importances_,align='center')\n",
    "    plt.yticks(np.arange(n_features),cancer.feature_names)\n",
    "    plt.xlabel('feature importance')\n",
    "    plt.ylabel('feature')"
   ]
  },
  {
   "cell_type": "code",
   "execution_count": null,
   "metadata": {},
   "outputs": [],
   "source": [
    "feature_importances_plot(tree)"
   ]
  },
  {
   "cell_type": "code",
   "execution_count": null,
   "metadata": {},
   "outputs": [],
   "source": []
  }
 ],
 "metadata": {
  "kernelspec": {
   "display_name": ".venv",
   "language": "python",
   "name": "python3"
  },
  "language_info": {
   "codemirror_mode": {
    "name": "ipython",
    "version": 3
   },
   "file_extension": ".py",
   "mimetype": "text/x-python",
   "name": "python",
   "nbconvert_exporter": "python",
   "pygments_lexer": "ipython3",
   "version": "3.10.11"
  },
  "orig_nbformat": 4
 },
 "nbformat": 4,
 "nbformat_minor": 2
}
