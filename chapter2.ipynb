{
 "cells": [
  {
   "cell_type": "code",
   "execution_count": null,
   "metadata": {},
   "outputs": [],
   "source": [
    "import numpy as np\n",
    "import matplotlib.pyplot as plt\n",
    "import pandas as pd\n",
    "import mglearn\n",
    "import seaborn as sns\n",
    "sns.set()\n",
    "\n",
    "from sklearn.model_selection import train_test_split\n",
    "\n",
    "from sklearn.datasets import load_breast_cancer\n",
    "cancer = load_breast_cancer()"
   ]
  },
  {
   "cell_type": "markdown",
   "metadata": {},
   "source": [
    "- データセットの準備"
   ]
  },
  {
   "cell_type": "code",
   "execution_count": null,
   "metadata": {},
   "outputs": [],
   "source": [
    "X,y=mglearn.datasets.make_forge()"
   ]
  },
  {
   "cell_type": "code",
   "execution_count": null,
   "metadata": {},
   "outputs": [],
   "source": [
    "mglearn.discrete_scatter(X[:,0],X[:,1],y)"
   ]
  },
  {
   "cell_type": "code",
   "execution_count": null,
   "metadata": {},
   "outputs": [],
   "source": [
    "df=pd.DataFrame(X,columns=['feature1','feature2'])\n",
    "df['class']=y\n",
    "df.head()"
   ]
  },
  {
   "cell_type": "code",
   "execution_count": null,
   "metadata": {},
   "outputs": [],
   "source": [
    "sns.scatterplot(\n",
    "    data=df,\n",
    "    x='feature1',\n",
    "    y='feature2',\n",
    "    hue='class',\n",
    "    style='class',\n",
    ")"
   ]
  },
  {
   "cell_type": "code",
   "execution_count": null,
   "metadata": {},
   "outputs": [],
   "source": [
    "X,y = mglearn.datasets.make_wave(n_samples=40)\n",
    "df=pd.DataFrame(X,columns=['feature'])\n",
    "df['responce']=y\n",
    "sns.scatterplot(\n",
    "    data=df,\n",
    "    x='feature',\n",
    "    y='responce'\n",
    "    )"
   ]
  },
  {
   "cell_type": "code",
   "execution_count": null,
   "metadata": {},
   "outputs": [],
   "source": [
    "from sklearn.datasets import load_breast_cancer\n",
    "cancer = load_breast_cancer()\n",
    "cancer.keys()"
   ]
  },
  {
   "cell_type": "code",
   "execution_count": null,
   "metadata": {},
   "outputs": [],
   "source": [
    "class_df=pd.DataFrame(cancer['data'],columns=cancer['feature_names'])\n",
    "class_df['target']=cancer['target']\n",
    "class_df['target_name']=class_df['target'].apply(lambda x:cancer['target_names'][x])\n",
    "class_df.head()"
   ]
  },
  {
   "cell_type": "code",
   "execution_count": null,
   "metadata": {},
   "outputs": [],
   "source": [
    "class_df['target_name'].value_counts()"
   ]
  },
  {
   "cell_type": "code",
   "execution_count": null,
   "metadata": {},
   "outputs": [],
   "source": [
    "X,y = mglearn.datasets.load_extended_boston()"
   ]
  },
  {
   "cell_type": "code",
   "execution_count": null,
   "metadata": {},
   "outputs": [],
   "source": [
    "reg_df = pd.DataFrame(X)"
   ]
  },
  {
   "cell_type": "code",
   "execution_count": null,
   "metadata": {},
   "outputs": [],
   "source": [
    "reg_df"
   ]
  },
  {
   "cell_type": "markdown",
   "metadata": {},
   "source": [
    "- k最近傍法"
   ]
  },
  {
   "cell_type": "code",
   "execution_count": null,
   "metadata": {},
   "outputs": [],
   "source": [
    "mglearn.plots.plot_knn_classification(n_neighbors=3)"
   ]
  },
  {
   "cell_type": "code",
   "execution_count": null,
   "metadata": {},
   "outputs": [],
   "source": [
    "from sklearn.model_selection import train_test_split\n",
    "X,y=mglearn.datasets.make_forge()\n",
    "X_train,X_test,y_train,y_test = train_test_split(X,y,random_state=0)"
   ]
  },
  {
   "cell_type": "code",
   "execution_count": null,
   "metadata": {},
   "outputs": [],
   "source": [
    "from sklearn.neighbors import KNeighborsClassifier\n",
    "clf = KNeighborsClassifier(n_neighbors=3)"
   ]
  },
  {
   "cell_type": "code",
   "execution_count": null,
   "metadata": {},
   "outputs": [],
   "source": [
    "clf.fit(X_train,y_train)"
   ]
  },
  {
   "cell_type": "code",
   "execution_count": null,
   "metadata": {},
   "outputs": [],
   "source": [
    "clf.predict(X_test)"
   ]
  },
  {
   "cell_type": "code",
   "execution_count": null,
   "metadata": {},
   "outputs": [],
   "source": [
    "clf.score(X_test,y_test)"
   ]
  },
  {
   "cell_type": "code",
   "execution_count": null,
   "metadata": {},
   "outputs": [],
   "source": [
    "fig,axes = plt.subplots(ncols=3,nrows=1,figsize=(10,3),tight_layout=True)\n",
    "axes = axes.ravel()\n",
    "for n,ax in zip([1,3,9],axes):\n",
    "    clf=KNeighborsClassifier(n_neighbors=n).fit(X_train,y_train)\n",
    "    mglearn.plots.plot_2d_separator(clf,X,fill=True,eps=0.5,ax=ax,alpha=.4)\n",
    "    mglearn.discrete_scatter(X[:,0],X[:,1],y,ax=ax)\n",
    "    ax.set_title(f'{n} neighbor(s)')\n",
    "    ax.set_xlabel('feature 1')\n",
    "    ax.set_ylabel('feature 2')"
   ]
  },
  {
   "cell_type": "code",
   "execution_count": null,
   "metadata": {},
   "outputs": [],
   "source": [
    "X_train,X_test,y_train,y_test=train_test_split(cancer['data'],cancer['target'],random_state=3)\n",
    "training_accuracy=[]\n",
    "test_accuracy=[]\n",
    "for n in range(1,21):\n",
    "    clf=KNeighborsClassifier(n_neighbors=n).fit(X_train,y_train)\n",
    "    training_accuracy.append(clf.score(X_train,y_train))\n",
    "    test_accuracy.append(clf.score(X_test,y_test))\n",
    "\n",
    "sns.lineplot(\n",
    "    data=pd.DataFrame({\n",
    "        'training_accuracy':training_accuracy,\n",
    "        'test_accuracy':test_accuracy\n",
    "    }),\n",
    ")"
   ]
  },
  {
   "cell_type": "code",
   "execution_count": null,
   "metadata": {},
   "outputs": [],
   "source": [
    "mglearn.plots.plot_knn_regression(n_neighbors=1)\n",
    "mglearn.plots.plot_knn_regression(n_neighbors=10)"
   ]
  },
  {
   "cell_type": "code",
   "execution_count": null,
   "metadata": {},
   "outputs": [],
   "source": [
    "from sklearn.neighbors import KNeighborsRegressor\n",
    "X,y = mglearn.datasets.make_wave(n_samples=40)\n",
    "X_train,X_test,y_train,y_test=train_test_split(X,y,random_state=0)\n",
    "reg=KNeighborsRegressor(n_neighbors=3).fit(X_train,y_train)"
   ]
  },
  {
   "cell_type": "code",
   "execution_count": null,
   "metadata": {},
   "outputs": [],
   "source": [
    "reg.score(X_test,y_test)"
   ]
  },
  {
   "cell_type": "code",
   "execution_count": null,
   "metadata": {},
   "outputs": [],
   "source": [
    "np.arange(1,11).reshape(-1,1)"
   ]
  },
  {
   "cell_type": "code",
   "execution_count": null,
   "metadata": {},
   "outputs": [],
   "source": [
    "test_sampls=np.linspace(-3,3,1000).reshape(-1,1)\n",
    "n=[1,3,7,9]\n",
    "fig,axes=plt.subplots(2,2,figsize=(8,8),tight_layout=True)\n",
    "axes=axes.ravel()\n",
    "for n,ax in zip(n,axes):\n",
    "    reg=KNeighborsRegressor(n_neighbors=n).fit(X_train,y_train)\n",
    "    preds=reg.predict(test_sampls)\n",
    "    ax.plot(test_sampls,preds)\n",
    "    ax.scatter(X_train,y_train,marker='^',c='b')\n",
    "    ax.scatter(X_test,y_test,marker='v',c='r')\n",
    "    ax.set_title(f'{n} neighbor')\n",
    "    ax.set_ylabel('responce')\n",
    "    ax.set_xlabel('feature')\n",
    "\n",
    "axes[0].legend(['predict','train','test'],loc='best')\n"
   ]
  },
  {
   "cell_type": "markdown",
   "metadata": {},
   "source": [
    "- 線型モデル"
   ]
  },
  {
   "cell_type": "code",
   "execution_count": null,
   "metadata": {},
   "outputs": [],
   "source": [
    "mglearn.plots.plot_linear_regression_wave()"
   ]
  },
  {
   "cell_type": "code",
   "execution_count": null,
   "metadata": {},
   "outputs": [],
   "source": [
    "from sklearn.linear_model import LinearRegression\n",
    "X,y = mglearn.datasets.make_wave(n_samples=60)\n",
    "X_train,X_test,y_train,y_test=train_test_split(X,y,random_state=0)\n",
    "ln=LinearRegression().fit(X_train,y_train)\n",
    "print(f'coef:{ln.coef_}')\n",
    "print(f'intercept:{ln.intercept_}')\n",
    "print(f'train_score:{np.round(ln.score(X_train,y_train),2)}')\n",
    "print(f'test_score:{np.round(ln.score(X_test,y_test),2)}')"
   ]
  },
  {
   "cell_type": "code",
   "execution_count": null,
   "metadata": {},
   "outputs": [],
   "source": [
    "X,y = mglearn.datasets.load_extended_boston()\n",
    "X_train,X_test,y_train,y_test=train_test_split(X,y,random_state=0)\n",
    "ln=LinearRegression().fit(X_train,y_train)\n",
    "# print(f'coef:{ln.coef_}')\n",
    "# print(f'intercept:{ln.intercept_}')\n",
    "print(f'train_score:{np.round(ln.score(X_train,y_train),2)}')\n",
    "print(f'test_score:{np.round(ln.score(X_test,y_test),2)}')"
   ]
  },
  {
   "cell_type": "markdown",
   "metadata": {},
   "source": [
    "- リッジ回帰  \n",
    "各変数の重みを最小化する、という目線で制約をかける＝L2正則化"
   ]
  },
  {
   "cell_type": "code",
   "execution_count": null,
   "metadata": {},
   "outputs": [],
   "source": [
    "from sklearn.linear_model import Ridge\n",
    "ridge=Ridge().fit(X_train,y_train)\n",
    "# print(f'coef:{ln.coef_}')\n",
    "# print(f'intercept:{ln.intercept_}')\n",
    "print(f'train_score:{np.round(ridge.score(X_train,y_train),2)}')\n",
    "print(f'test_score:{np.round(ridge.score(X_test,y_test),2)}')"
   ]
  },
  {
   "cell_type": "code",
   "execution_count": null,
   "metadata": {},
   "outputs": [],
   "source": [
    "ridge10=Ridge(alpha=10).fit(X_train,y_train)\n",
    "# print(f'coef:{ln.coef_}')\n",
    "# print(f'intercept:{ln.intercept_}')\n",
    "print(f'train_score:{np.round(ridge10.score(X_train,y_train),2)}')\n",
    "print(f'test_score:{np.round(ridge10.score(X_test,y_test),2)}')"
   ]
  },
  {
   "cell_type": "code",
   "execution_count": null,
   "metadata": {},
   "outputs": [],
   "source": [
    "ridge01=Ridge(alpha=.1).fit(X_train,y_train)\n",
    "# print(f'coef:{ln.coef_}')\n",
    "# print(f'intercept:{ln.intercept_}')\n",
    "print(f'train_score:{np.round(ridge01.score(X_train,y_train),2)}')\n",
    "print(f'test_score:{np.round(ridge01.score(X_test,y_test),2)}')"
   ]
  },
  {
   "cell_type": "code",
   "execution_count": null,
   "metadata": {},
   "outputs": [],
   "source": [
    "plt.plot(ridge.coef_,'s',label='alpha=1')\n",
    "plt.plot(ridge10.coef_,'^',label='alpha=10')\n",
    "plt.plot(ridge01.coef_,'v',label='alpha=.1')\n",
    "plt.plot(ln.coef_,'o',label='liner')\n",
    "plt.xlabel('coeficient_no')\n",
    "plt.xlabel('weight')\n",
    "plt.ylim(-25,25)\n",
    "plt.legend()"
   ]
  },
  {
   "cell_type": "code",
   "execution_count": null,
   "metadata": {},
   "outputs": [],
   "source": [
    "mglearn.plots.plot_ridge_n_samples()"
   ]
  },
  {
   "cell_type": "markdown",
   "metadata": {},
   "source": [
    "- Lasso回帰  \n",
    "ridgeよりも変数を削除する（影響しない係数を０にすることを目指す）正則化ロジック。L1正則化"
   ]
  },
  {
   "cell_type": "code",
   "execution_count": null,
   "metadata": {},
   "outputs": [],
   "source": [
    "from sklearn.linear_model import Lasso\n",
    "lasso = Lasso().fit(X_train,y_train)\n",
    "print(f'train_score:{np.round(lasso.score(X_train,y_train),2)}')\n",
    "print(f'test_score:{np.round(lasso.score(X_test,y_test),2)}')\n",
    "print(f'used:{np.sum(lasso.coef_!=0)}')"
   ]
  },
  {
   "cell_type": "code",
   "execution_count": null,
   "metadata": {},
   "outputs": [],
   "source": [
    "lasso001 = Lasso(alpha=0.01,max_iter=100000).fit(X_train,y_train)\n",
    "print(f'train_score:{np.round(lasso001.score(X_train,y_train),2)}')\n",
    "print(f'test_score:{np.round(lasso001.score(X_test,y_test),2)}')\n",
    "print(f'used:{np.sum(lasso001.coef_!=0)}')"
   ]
  },
  {
   "cell_type": "code",
   "execution_count": null,
   "metadata": {},
   "outputs": [],
   "source": [
    "lasso00001 = Lasso(alpha=0.0001,max_iter=100000).fit(X_train,y_train)\n",
    "print(f'train_score:{np.round(lasso00001.score(X_train,y_train),2)}')\n",
    "print(f'test_score:{np.round(lasso00001.score(X_test,y_test),2)}')\n",
    "print(f'used:{np.sum(lasso00001.coef_!=0)}')"
   ]
  },
  {
   "cell_type": "code",
   "execution_count": null,
   "metadata": {},
   "outputs": [],
   "source": [
    "# plt.plot(ridge.coef_,'o',label='ridge alpha=1')\n",
    "plt.plot(lasso.coef_,'s',label='lasso alpha=1')\n",
    "plt.plot(lasso001.coef_,'^',label='lasso alpha=.01')\n",
    "# plt.plot(lasso00001.coef_,'v',label='lasso alpha=.00001')\n",
    "\n",
    "plt.xlabel('coeficient_no')\n",
    "plt.xlabel('weight')\n",
    "# plt.ylim(-25,25)\n",
    "plt.legend()"
   ]
  },
  {
   "cell_type": "markdown",
   "metadata": {},
   "source": [
    "- 線型回帰による分類モデル SVMとロジスティック回帰"
   ]
  },
  {
   "cell_type": "code",
   "execution_count": null,
   "metadata": {},
   "outputs": [],
   "source": [
    "from sklearn.linear_model import LogisticRegression\n",
    "from sklearn.svm import LinearSVC\n",
    "\n",
    "X,y = mglearn.datasets.make_forge()\n",
    "fig,axes = plt.subplots(1,2,figsize=(10,3))\n",
    "\n",
    "for model,ax in zip([LinearSVC(),LogisticRegression()],axes):\n",
    "    clf=model.fit(X,y)\n",
    "    mglearn.plots.plot_2d_separator(clf,X,fill=False,eps=.5,ax=ax,alpha=.7)\n",
    "    mglearn.discrete_scatter(X[:,0],X[:,1],y,ax=ax)\n",
    "    ax.set_title(f'{clf.__class__.__name__}')\n",
    "    ax.set_xlabel('feature0')\n",
    "    ax.set_ylabel('feature1')"
   ]
  },
  {
   "cell_type": "code",
   "execution_count": null,
   "metadata": {},
   "outputs": [],
   "source": [
    "mglearn.plots.plot_linear_svc_regularization()"
   ]
  },
  {
   "cell_type": "code",
   "execution_count": null,
   "metadata": {},
   "outputs": [],
   "source": [
    "from sklearn.datasets import load_breast_cancer\n",
    "cancer = load_breast_cancer()\n",
    "X_train,X_test,y_train,y_test=train_test_split(\n",
    "    cancer.data,\n",
    "    cancer.target,\n",
    "    stratify=cancer.target,\n",
    "    random_state=0\n",
    "    )\n",
    "logreg=LogisticRegression(max_iter=10000).fit(X_train,y_train)\n",
    "print(f'training set score:{logreg.score(X_train,y_train):.2f}')\n",
    "print(f'test set score:{logreg.score(X_test,y_test):.2f}')"
   ]
  },
  {
   "cell_type": "code",
   "execution_count": null,
   "metadata": {},
   "outputs": [],
   "source": [
    "logreg100=LogisticRegression(C=100,max_iter=10000).fit(X_train,y_train)\n",
    "print(f'training set score:{logreg100.score(X_train,y_train):.2f}')\n",
    "print(f'test set score:{logreg100.score(X_test,y_test):.2f}')"
   ]
  },
  {
   "cell_type": "code",
   "execution_count": null,
   "metadata": {},
   "outputs": [],
   "source": [
    "logreg001=LogisticRegression(C=.01,max_iter=10000).fit(X_train,y_train)\n",
    "print(f'training set score:{logreg001.score(X_train,y_train):.2f}')\n",
    "print(f'test set score:{logreg001.score(X_test,y_test):.2f}')"
   ]
  },
  {
   "cell_type": "code",
   "execution_count": null,
   "metadata": {},
   "outputs": [],
   "source": [
    "plt.plot(logreg.coef_.T,'o',label='C=1')\n",
    "plt.plot(logreg100.coef_.T,'^',label='C=100')\n",
    "plt.plot(logreg001.coef_.T,'^',label='C=0.01')\n",
    "plt.legend()\n",
    "plt.xticks(range(cancer.data.shape[1]),cancer.feature_names,rotation=90)"
   ]
  },
  {
   "cell_type": "code",
   "execution_count": null,
   "metadata": {},
   "outputs": [],
   "source": [
    "from sklearn.linear_model import LogisticRegression\n",
    "from sklearn.datasets import load_breast_cancer\n",
    "from sklearn.model_selection import train_test_split\n",
    "cancer = load_breast_cancer()\n",
    "X_train,X_test,y_train,y_test=train_test_split(\n",
    "    cancer.data,\n",
    "    cancer.target,\n",
    "    stratify=cancer.target,\n",
    "    random_state=0\n",
    "    )\n",
    "for C,maker in zip([0.001,1,100],['o','^','v']):\n",
    "    lr_l1=LogisticRegression(C=C,penalty='l1',solver='liblinear').fit(X_train,y_train)\n",
    "    plt.plot(lr_l1.coef_.T,maker,label='C=1')\n"
   ]
  },
  {
   "cell_type": "markdown",
   "metadata": {},
   "source": [
    "- 多クラス分類"
   ]
  },
  {
   "cell_type": "code",
   "execution_count": null,
   "metadata": {},
   "outputs": [],
   "source": [
    "from sklearn.datasets import make_blobs\n",
    "X,y = make_blobs(random_state=42)\n",
    "plt.scatter(x=X[y==0,0],y=X[y==0,1],c='r',marker='o')\n",
    "plt.scatter(x=X[y==1,0],y=X[y==1,1],c='g',marker='^')\n",
    "plt.scatter(x=X[y==2,0],y=X[y==2,1],c='b',marker='v')\n",
    "plt.legend(['class0','class1','class2'])"
   ]
  },
  {
   "cell_type": "code",
   "execution_count": null,
   "metadata": {},
   "outputs": [],
   "source": [
    "\n",
    "from sklearn.svm import LinearSVC\n",
    "linear_svc = LinearSVC().fit(X,y)\n",
    "print(f'coeficient shape:{linear_svc.coef_.shape}')\n",
    "print(f'intercept shape:{linear_svc.intercept_.shape}')"
   ]
  },
  {
   "cell_type": "markdown",
   "metadata": {},
   "source": [
    "分類境界はcoef1*x1+coef2*x2+intercept=0になる線。  \n",
    "x2について解くと、x2=-(coef1*x1+intercept)/coef2"
   ]
  },
  {
   "cell_type": "code",
   "execution_count": null,
   "metadata": {},
   "outputs": [],
   "source": [
    "plt.scatter(x=X[y==0,0],y=X[y==0,1],c='r',marker='o')\n",
    "plt.scatter(x=X[y==1,0],y=X[y==1,1],c='g',marker='^')\n",
    "plt.scatter(x=X[y==2,0],y=X[y==2,1],c='b',marker='v')\n",
    "\n",
    "line=np.linspace(-15,15)\n",
    "for coef,intercept,color in zip(linear_svc.coef_,linear_svc.intercept_,['r','g','b']):\n",
    "    plt.plot(line,-((line*coef[0])+intercept)/coef[1],c=color)\n",
    "\n",
    "plt.xlim(-15,15)\n",
    "plt.ylim(-15,15)\n",
    "\n",
    "plt.legend(['class0','class1','class2','class0 line','class1 line','class2 line'])"
   ]
  },
  {
   "cell_type": "code",
   "execution_count": null,
   "metadata": {},
   "outputs": [],
   "source": [
    "mglearn.plots.plot_2d_classification(linear_svc,X,fill=True,alpha=.7)\n",
    "mglearn.discrete_scatter(X[:,0],X[:,1],y)\n",
    "line=np.linspace(-15,15)\n",
    "for coef,intercept,color in zip(linear_svc.coef_,linear_svc.intercept_,['b','r','g']):\n",
    "    plt.plot(line,-((line*coef[0])+intercept)/coef[1],c=color)\n",
    "plt.legend(['class0','class1','class2','class0 line','class1 line','class2 line'],loc=(1.01,0.3))"
   ]
  },
  {
   "cell_type": "markdown",
   "metadata": {},
   "source": [
    "- ナイーブベイズ  \n",
    "3種類ある。  \n",
    "Gaussianは連続値  \n",
    "bernoulliは2値  \n",
    "Multinomiaは頻度  "
   ]
  },
  {
   "cell_type": "code",
   "execution_count": null,
   "metadata": {},
   "outputs": [],
   "source": [
    "X=np.array([\n",
    "    [0,1,0,1],\n",
    "    [1,0,1,1],\n",
    "    [0,0,0,1],\n",
    "    [1,0,1,0]\n",
    "])\n",
    "y=np.array([0,1,0,1])"
   ]
  },
  {
   "cell_type": "code",
   "execution_count": null,
   "metadata": {},
   "outputs": [],
   "source": [
    "counts={}\n",
    "for label in np.unique(y):\n",
    "    counts[label]=X[y==label].sum(axis=0)\n",
    "print(counts)"
   ]
  },
  {
   "cell_type": "markdown",
   "metadata": {},
   "source": [
    "- 決定木"
   ]
  },
  {
   "cell_type": "code",
   "execution_count": null,
   "metadata": {},
   "outputs": [],
   "source": [
    "from sklearn.datasets import load_breast_cancer\n",
    "cancer = load_breast_cancer()\n",
    "\n",
    "from sklearn.tree import DecisionTreeClassifier\n",
    "from sklearn.model_selection import train_test_split\n",
    "X_train,X_test,y_train,y_test=train_test_split(\n",
    "    cancer.data,cancer.target,stratify=cancer.target,random_state=42\n",
    ")\n",
    "tree=DecisionTreeClassifier(random_state=0).fit(X_train,y_train)\n",
    "print(f'accuracy on training : {tree.score(X_train,y_train):.3f}')\n",
    "print(f'accuracy on test : {tree.score(X_test,y_test):.3f}')"
   ]
  },
  {
   "cell_type": "code",
   "execution_count": null,
   "metadata": {},
   "outputs": [],
   "source": [
    "tree=DecisionTreeClassifier(max_depth=4,random_state=0).fit(X_train,y_train)\n",
    "print(f'accuracy on training : {tree.score(X_train,y_train):.3f}')\n",
    "print(f'accuracy on test : {tree.score(X_test,y_test):.3f}')"
   ]
  },
  {
   "cell_type": "code",
   "execution_count": null,
   "metadata": {},
   "outputs": [],
   "source": [
    "cancer.feature_names"
   ]
  },
  {
   "cell_type": "code",
   "execution_count": null,
   "metadata": {},
   "outputs": [],
   "source": [
    "from sklearn.tree import export_graphviz\n",
    "export_graphviz(\n",
    "    tree,\n",
    "    out_file='tree.dot',\n",
    "    class_names=cancer.target_names,\n",
    "    feature_names=cancer.feature_names,\n",
    "    impurity=False,\n",
    "    filled=True,\n",
    ")"
   ]
  },
  {
   "cell_type": "code",
   "execution_count": null,
   "metadata": {},
   "outputs": [],
   "source": [
    "print(f'feature importances:{tree.feature_importances_}')"
   ]
  },
  {
   "cell_type": "code",
   "execution_count": null,
   "metadata": {},
   "outputs": [],
   "source": [
    "def feature_importances_plot(model):\n",
    "    n_features=cancer.data.shape[1]\n",
    "    plt.barh(range(n_features),model.feature_importances_,align='center')\n",
    "    plt.yticks(np.arange(n_features),cancer.feature_names)\n",
    "    plt.xlabel('feature importance')\n",
    "    plt.ylabel('feature')"
   ]
  },
  {
   "cell_type": "code",
   "execution_count": null,
   "metadata": {},
   "outputs": [],
   "source": [
    "feature_importances_plot(tree)"
   ]
  },
  {
   "cell_type": "code",
   "execution_count": null,
   "metadata": {},
   "outputs": [],
   "source": [
    "tree=mglearn.plots.plot_tree_not_monotone()"
   ]
  },
  {
   "cell_type": "code",
   "execution_count": null,
   "metadata": {},
   "outputs": [],
   "source": [
    "import os\n",
    "ram_price=pd.read_csv(os.path.join(mglearn.datasets.DATA_PATH,'ram_price.csv'))"
   ]
  },
  {
   "cell_type": "code",
   "execution_count": null,
   "metadata": {},
   "outputs": [],
   "source": [
    "plt.semilogy(ram_price.date,ram_price.price)\n",
    "plt.xlabel('Year')\n",
    "plt.ylabel(r'price in $/Mbyte')"
   ]
  },
  {
   "cell_type": "code",
   "execution_count": null,
   "metadata": {},
   "outputs": [],
   "source": [
    "ram_price"
   ]
  },
  {
   "cell_type": "code",
   "execution_count": null,
   "metadata": {},
   "outputs": [],
   "source": [
    "from sklearn.tree import DecisionTreeRegressor\n",
    "from sklearn.linear_model import LinearRegression\n",
    "data_train = ram_price[ram_price.date < 2000]\n",
    "data_test =ram_price[ram_price.date >= 2000]\n"
   ]
  },
  {
   "cell_type": "code",
   "execution_count": null,
   "metadata": {},
   "outputs": [],
   "source": [
    "X_train=data_train.date.to_numpy()[:,np.newaxis]\n",
    "y_train=np.log(data_train.price)\n",
    "\n",
    "tree=DecisionTreeRegressor().fit(X_train,y_train)\n",
    "linear_reg=LinearRegression().fit(X_train,y_train)\n",
    "\n",
    "X_all = ram_price.date.to_numpy()[:,np.newaxis]\n",
    "\n",
    "pred_tree=tree.predict(X_all)\n",
    "pred_lr=linear_reg.predict(X_all)\n",
    "\n",
    "price_tree=np.exp(pred_tree)\n",
    "price_lr=np.exp(pred_lr)"
   ]
  },
  {
   "cell_type": "code",
   "execution_count": null,
   "metadata": {},
   "outputs": [],
   "source": [
    "plt.semilogy(data_train.date,data_train.price,label='train_data')\n",
    "plt.semilogy(data_test.date,data_test.price,label='test_data')\n",
    "plt.semilogy(ram_price.date,price_tree,label='Tree prediction')\n",
    "plt.semilogy(ram_price.date,price_lr,label='Liner Regression prediction')"
   ]
  },
  {
   "cell_type": "code",
   "execution_count": null,
   "metadata": {},
   "outputs": [],
   "source": [
    "plt.semilogy(data_train.date,data_train.price,label='train_data')"
   ]
  },
  {
   "cell_type": "code",
   "execution_count": null,
   "metadata": {},
   "outputs": [],
   "source": [
    "from sklearn.ensemble import RandomForestClassifier\n",
    "from sklearn.datasets import make_moons"
   ]
  },
  {
   "cell_type": "code",
   "execution_count": null,
   "metadata": {},
   "outputs": [],
   "source": [
    "X,y = make_moons(n_samples=100,noise=.25,random_state=3)\n",
    "X_train,X_test,y_train,y_test = train_test_split(X,y,stratify=y,random_state=42)"
   ]
  },
  {
   "cell_type": "code",
   "execution_count": null,
   "metadata": {},
   "outputs": [],
   "source": [
    "forest=RandomForestClassifier(n_estimators=5,random_state=2).fit(X_train,y_train)"
   ]
  },
  {
   "cell_type": "code",
   "execution_count": null,
   "metadata": {},
   "outputs": [],
   "source": [
    "fig,axes = plt.subplots(2,3,figsize=(20,10))\n",
    "for i,(ax,tree) in enumerate(zip (axes.ravel(),forest.estimators_)):\n",
    "    ax.set_title(f'tree {i}')\n",
    "    mglearn.plots.plot_tree_partition(X_train,y_train,tree,ax=ax)\n",
    "\n",
    "mglearn.plots.plot_2d_separator(forest,X_train,fill=True,ax=axes[-1,-1],alpha=.4)\n",
    "mglearn.discrete_scatter(X_train[:,0],X_train[:,1],y_train)"
   ]
  },
  {
   "cell_type": "code",
   "execution_count": null,
   "metadata": {},
   "outputs": [],
   "source": [
    "forest=RandomForestClassifier(n_estimators=100,random_state=2).fit(X_train,y_train)\n",
    "mglearn.plots.plot_2d_separator(forest,X_train,fill=True,alpha=.4)\n",
    "mglearn.discrete_scatter(X_train[:,0],X_train[:,1],y_train)"
   ]
  },
  {
   "cell_type": "code",
   "execution_count": null,
   "metadata": {},
   "outputs": [],
   "source": [
    "X_train,X_test,y_train,y_test=train_test_split(\n",
    "    cancer.data,cancer.target,random_state=0\n",
    ")\n",
    "forest=RandomForestClassifier(n_estimators=100,random_state=0).fit(X_train,y_train)\n",
    "print(f'accuracy of train:{forest.score(X_train,y_train):.2f}')\n",
    "print(f'accuracy of test:{forest.score(X_test,y_test):.2f}')"
   ]
  },
  {
   "cell_type": "code",
   "execution_count": null,
   "metadata": {},
   "outputs": [],
   "source": [
    "feature_importances_plot(forest)"
   ]
  },
  {
   "cell_type": "code",
   "execution_count": null,
   "metadata": {},
   "outputs": [],
   "source": [
    "from sklearn.ensemble import GradientBoostingClassifier\n",
    "X_train,X_test,y_train,y_test=train_test_split(\n",
    "    cancer.data,cancer.target,random_state=0\n",
    ")\n",
    "gbrt=GradientBoostingClassifier(random_state=0).fit(X_train,y_train)\n",
    "print(f'accuracy of train:{gbrt.score(X_train,y_train):.3f}')\n",
    "print(f'accuracy of test:{gbrt.score(X_test,y_test):.3f}')"
   ]
  },
  {
   "cell_type": "code",
   "execution_count": null,
   "metadata": {},
   "outputs": [],
   "source": [
    "from sklearn.ensemble import GradientBoostingClassifier\n",
    "X_train,X_test,y_train,y_test=train_test_split(\n",
    "    cancer.data,cancer.target,random_state=0\n",
    ")\n",
    "gbrt=GradientBoostingClassifier(max_depth=1,random_state=0).fit(X_train,y_train)\n",
    "print(f'accuracy of train:{gbrt.score(X_train,y_train):.3f}')\n",
    "print(f'accuracy of test:{gbrt.score(X_test,y_test):.3f}')"
   ]
  },
  {
   "cell_type": "code",
   "execution_count": null,
   "metadata": {},
   "outputs": [],
   "source": [
    "from sklearn.ensemble import GradientBoostingClassifier\n",
    "X_train,X_test,y_train,y_test=train_test_split(\n",
    "    cancer.data,cancer.target,random_state=0\n",
    ")\n",
    "gbrt=GradientBoostingClassifier(learning_rate=.01,random_state=0).fit(X_train,y_train)\n",
    "print(f'accuracy of train:{gbrt.score(X_train,y_train):.3f}')\n",
    "print(f'accuracy of test:{gbrt.score(X_test,y_test):.3f}')"
   ]
  },
  {
   "cell_type": "code",
   "execution_count": null,
   "metadata": {},
   "outputs": [],
   "source": [
    "gbrt=GradientBoostingClassifier(max_depth=1,random_state=0).fit(X_train,y_train)\n",
    "feature_importances_plot(gbrt)"
   ]
  },
  {
   "cell_type": "markdown",
   "metadata": {},
   "source": [
    "* SVM"
   ]
  },
  {
   "cell_type": "code",
   "execution_count": null,
   "metadata": {},
   "outputs": [],
   "source": [
    "from sklearn.datasets import make_blobs\n",
    "X,y=make_blobs(centers=4,random_state=8)\n",
    "y=y%2\n",
    "mglearn.discrete_scatter(X[:,0],X[:,1],y)\n",
    "plt.xlabel('feature0')\n",
    "plt.xlabel('feature1')"
   ]
  },
  {
   "cell_type": "code",
   "execution_count": null,
   "metadata": {},
   "outputs": [],
   "source": [
    "X2=X[:,1:]**2"
   ]
  },
  {
   "cell_type": "code",
   "execution_count": null,
   "metadata": {},
   "outputs": [],
   "source": [
    "X[:,1:]"
   ]
  },
  {
   "cell_type": "code",
   "execution_count": null,
   "metadata": {},
   "outputs": [],
   "source": [
    "X2.shape"
   ]
  },
  {
   "cell_type": "code",
   "execution_count": null,
   "metadata": {},
   "outputs": [],
   "source": [
    "np.hstack([X,X2])"
   ]
  },
  {
   "cell_type": "code",
   "execution_count": null,
   "metadata": {},
   "outputs": [],
   "source": [
    "X_new = np.hstack([X,X[:,1:]**2])\n",
    "fig = plt.figure(figsize=(5,5),tight_layout=True)\n",
    "ax = fig.add_subplot(projection = '3d')\n",
    "mask = y == 0\n",
    "ax.scatter(X_new[mask,0],X_new[mask,1],X_new[mask,2],c='b',s=60)\n",
    "ax.scatter(X_new[~mask,0],X_new[~mask,1],X_new[~mask,2],c='r',marker='^',s=60)\n",
    "ax.set_xlabel('feature0')\n",
    "ax.set_ylabel('feature1')\n",
    "ax.set_zlabel('feature1 **2')"
   ]
  },
  {
   "cell_type": "code",
   "execution_count": null,
   "metadata": {},
   "outputs": [],
   "source": [
    "from sklearn.svm import LinearSVC\n",
    "liner_svm_3d=LinearSVC().fit(X_new,y)\n",
    "coef,intercept=liner_svm_3d.coef_.ravel(),liner_svm_3d.intercept_\n",
    "\n",
    "xx=np.linspace(X_new[:,0].min()-2,X_new[:,0].max()+2,50)\n",
    "yy=np.linspace(X_new[:,1].min()-2,X_new[:,1].max()+2,50)\n",
    "\n",
    "XX,YY = np.meshgrid(xx,yy)\n",
    "ZZ=(coef[0]*XX+coef[1]*YY+intercept)/-coef[2]\n",
    "\n",
    "fig = plt.figure(figsize=(5,5),tight_layout=True)\n",
    "ax = fig.add_subplot(projection = '3d')\n",
    "\n",
    "ax.plot_surface(XX,YY,ZZ,rstride=8,cstride=8,alpha=.3)\n",
    "ax.scatter(X_new[mask,0],X_new[mask,1],X_new[mask,2],c='b',s=60)\n",
    "ax.scatter(X_new[~mask,0],X_new[~mask,1],X_new[~mask,2],c='r',marker='^',s=60)\n",
    "ax.set_xlabel('feature0')\n",
    "ax.set_ylabel('feature1')\n",
    "ax.set_zlabel('feature1 **2')"
   ]
  },
  {
   "cell_type": "code",
   "execution_count": null,
   "metadata": {},
   "outputs": [],
   "source": [
    "ZZ=YY**2\n",
    "dec=liner_svm_3d.decision_function(\n",
    "    np.c_[XX.ravel(),YY.ravel(),ZZ.ravel()]\n",
    ")\n",
    "plt.count"
   ]
  },
  {
   "cell_type": "code",
   "execution_count": null,
   "metadata": {},
   "outputs": [],
   "source": [
    "from sklearn.svm import SVC\n",
    "X,y=mglearn.tools.make_handcrafted_dataset()\n",
    "svm=SVC(kernel='rbf',C=10,gamma=.1).fit(X,y)\n",
    "mglearn.plots.plot_2d_separator(svm,X,eps=.5)\n",
    "mglearn.discrete_scatter(X[:,0],X[:,1],y)\n",
    "sv=svm.support_vectors_\n",
    "svlabels=svm.dual_coef_.ravel()>0\n",
    "mglearn.discrete_scatter(sv[:,0],sv[:,1],svlabels,s=15,markeredgewidth=3)"
   ]
  },
  {
   "cell_type": "code",
   "execution_count": null,
   "metadata": {},
   "outputs": [],
   "source": [
    "fig,axes=plt.subplots(3,3,figsize=(15,10))\n",
    "for ax,C in zip(axes,[-1,0,3]):\n",
    "    for a,gamma in zip(ax,[-1,0,1]):\n",
    "        mglearn.plots.plot_svm(log_C=C,log_gamma=gamma,ax=a)\n",
    "axes[0,0].legend(['class0','class1','sv_class0','sv_class1'],ncol=4,loc=(.9,1.2))"
   ]
  },
  {
   "cell_type": "code",
   "execution_count": null,
   "metadata": {},
   "outputs": [],
   "source": [
    "X_train,X_test,y_train,y_test=train_test_split(\n",
    "    cancer.data,cancer.target,random_state=0\n",
    ")\n",
    "svc=SVC()\n",
    "svc.fit(X_train,y_train)\n",
    "print(f'accuracy on training {svc.score(X_train,y_train):.2f}')\n",
    "print(f'accuracy on test {svc.score(X_test,y_test):.2f}')"
   ]
  },
  {
   "cell_type": "code",
   "execution_count": null,
   "metadata": {},
   "outputs": [],
   "source": [
    "plt.boxplot(X_train,manage_ticks=False)\n",
    "plt.yscale('symlog')\n",
    "plt.xlabel('feature index')\n",
    "plt.ylabel('feature magnitude')"
   ]
  },
  {
   "cell_type": "code",
   "execution_count": null,
   "metadata": {},
   "outputs": [],
   "source": [
    "min_on_training=X_train.min(axis=0)\n",
    "range_on_training=(X_train - min_on_training).max(axis=0)\n",
    "range_on_training\n",
    "scaled_X_train=(X_train-min_on_training)/range_on_training\n",
    "scaled_X_test=(X_test-min_on_training)/range_on_training"
   ]
  },
  {
   "cell_type": "code",
   "execution_count": null,
   "metadata": {},
   "outputs": [],
   "source": [
    "svc=SVC()\n",
    "svc.fit(scaled_X_train,y_train)\n",
    "print(f'accuracy on training {svc.score(scaled_X_train,y_train):.2f}')\n",
    "print(f'accuracy on test {svc.score(scaled_X_test,y_test):.2f}')"
   ]
  },
  {
   "cell_type": "code",
   "execution_count": null,
   "metadata": {},
   "outputs": [],
   "source": [
    "svc=SVC(C=1)\n",
    "svc.fit(scaled_X_train,y_train)\n",
    "print(f'accuracy on training {svc.score(scaled_X_train,y_train):.2f}')\n",
    "print(f'accuracy on test {svc.score(scaled_X_test,y_test):.2f}')"
   ]
  },
  {
   "cell_type": "code",
   "execution_count": null,
   "metadata": {},
   "outputs": [],
   "source": [
    "plt.boxplot(scaled_X_train,manage_ticks=False)\n",
    "# plt.yscale('symlog')\n",
    "plt.xlabel('feature index')\n",
    "plt.ylabel('feature magnitude')"
   ]
  },
  {
   "cell_type": "code",
   "execution_count": null,
   "metadata": {},
   "outputs": [],
   "source": [
    "from sklearn.neural_network import MLPClassifier\n",
    "from sklearn.datasets import make_moons\n",
    "X,y = make_moons(n_samples=100,noise=0.25,random_state=3)\n",
    "X_train,X_test,y_train,y_test=train_test_split(X,y,stratify=y,random_state=42)\n",
    "mlp=MLPClassifier(solver='lbfgs',random_state=0).fit(X_train,y_train)\n",
    "mglearn.plots.plot_2d_separator(mlp,X_train,fill=True,alpha=.3)\n",
    "mglearn.discrete_scatter(X_train[:,0],X_train[:,1],y_train)\n",
    "plt.xlabel('feature 0')\n",
    "plt.ylabel('feature 1')"
   ]
  },
  {
   "cell_type": "code",
   "execution_count": null,
   "metadata": {},
   "outputs": [],
   "source": [
    "mlp=MLPClassifier(solver='lbfgs',random_state=0,hidden_layer_sizes=[10]).fit(X_train,y_train)\n",
    "mglearn.plots.plot_2d_separator(mlp,X_train,fill=True,alpha=.3)\n",
    "mglearn.discrete_scatter(X_train[:,0],X_train[:,1],y_train)\n",
    "plt.xlabel('feature 0')\n",
    "plt.ylabel('feature 1')"
   ]
  },
  {
   "cell_type": "code",
   "execution_count": null,
   "metadata": {},
   "outputs": [],
   "source": [
    "mlp=MLPClassifier(solver='lbfgs',random_state=0,hidden_layer_sizes=[10,10],max_iter=1500).fit(X_train,y_train)\n",
    "mglearn.plots.plot_2d_separator(mlp,X_train,fill=True,alpha=.3)\n",
    "mglearn.discrete_scatter(X_train[:,0],X_train[:,1],y_train)\n",
    "plt.xlabel('feature 0')\n",
    "plt.ylabel('feature 1')"
   ]
  },
  {
   "cell_type": "code",
   "execution_count": null,
   "metadata": {},
   "outputs": [],
   "source": [
    "mlp=MLPClassifier(\n",
    "    solver='lbfgs',\n",
    "    random_state=0,\n",
    "    hidden_layer_sizes=[10,10],\n",
    "    max_iter=1500,\n",
    "    activation='tanh'\n",
    "    ).fit(X_train,y_train)\n",
    "mglearn.plots.plot_2d_separator(mlp,X_train,fill=True,alpha=.3)\n",
    "mglearn.discrete_scatter(X_train[:,0],X_train[:,1],y_train)\n",
    "plt.xlabel('feature 0')\n",
    "plt.ylabel('feature 1')"
   ]
  },
  {
   "cell_type": "code",
   "execution_count": null,
   "metadata": {},
   "outputs": [],
   "source": [
    "fig,axes = plt.subplots(2,4,figsize=(20,8))\n",
    "for axx,n_hidden_nodes in zip(axes,[10,100]):\n",
    "    for ax,alpha in zip(axx,[.0001,.01,.1,1]):\n",
    "        mlp=MLPClassifier(\n",
    "            solver='lbfgs',\n",
    "            random_state=0,\n",
    "            hidden_layer_sizes=[n_hidden_nodes,n_hidden_nodes],\n",
    "            max_iter=1500,\n",
    "            activation='tanh',\n",
    "            alpha=alpha\n",
    "            ).fit(X_train,y_train)\n",
    "        mglearn.plots.plot_2d_separator(mlp,X_train,fill=True,alpha=.3,ax=ax)\n",
    "        mglearn.discrete_scatter(X_train[:,0],X_train[:,1],y_train,ax=ax)\n",
    "        ax.set_title(f'n_hidden=[{n_hidden_nodes},{n_hidden_nodes}] alpha={alpha}')"
   ]
  },
  {
   "cell_type": "code",
   "execution_count": null,
   "metadata": {},
   "outputs": [],
   "source": [
    "fig,axes = plt.subplots(2,4,figsize=(20,8))\n",
    "for i,ax in enumerate(axes.ravel()):\n",
    "    mlp=MLPClassifier(\n",
    "        solver='lbfgs',\n",
    "        random_state=i,\n",
    "        hidden_layer_sizes=[100,100],\n",
    "        max_iter=1500,\n",
    "        activation='tanh',\n",
    "        # alpha=\n",
    "        ).fit(X_train,y_train)\n",
    "    mglearn.plots.plot_2d_separator(mlp,X_train,fill=True,alpha=.3,ax=ax)\n",
    "    mglearn.discrete_scatter(X_train[:,0],X_train[:,1],y_train,ax=ax)\n",
    "    ax.set_title(f'random_state={i}')"
   ]
  },
  {
   "cell_type": "code",
   "execution_count": null,
   "metadata": {},
   "outputs": [],
   "source": [
    "X_train,X_test,y_train,y_test=train_test_split(\n",
    "    cancer.data,cancer.target,random_state=0\n",
    ")\n",
    "mlp=MLPClassifier(random_state=42).fit(X_train,y_train)\n",
    "print(f'accuracy on training = {mlp.score(X_train,y_train):.2f}')\n",
    "print(f'accuracy on test = {mlp.score(X_test,y_test):.2f}')"
   ]
  },
  {
   "cell_type": "code",
   "execution_count": null,
   "metadata": {},
   "outputs": [],
   "source": [
    "mean_on_train = X_train.mean(axis=0)\n",
    "std_on_train=X_train.std(axis=0)\n",
    "X_train_scaled=(X_train-mean_on_train)/std_on_train\n",
    "X_test_scaled=(X_test-mean_on_train)/std_on_train"
   ]
  },
  {
   "cell_type": "code",
   "execution_count": null,
   "metadata": {},
   "outputs": [],
   "source": [
    "mlp=MLPClassifier(random_state=42,max_iter=1000).fit(X_train_scaled,y_train)\n",
    "print(f'accuracy on training = {mlp.score(X_train_scaled,y_train):.2f}')\n",
    "print(f'accuracy on test = {mlp.score(X_test_scaled,y_test):.2f}')"
   ]
  },
  {
   "cell_type": "code",
   "execution_count": null,
   "metadata": {},
   "outputs": [],
   "source": [
    "mlp=MLPClassifier(random_state=42,max_iter=1000,alpha=1).fit(X_train_scaled,y_train)\n",
    "print(f'accuracy on training = {mlp.score(X_train_scaled,y_train):.2f}')\n",
    "print(f'accuracy on test = {mlp.score(X_test_scaled,y_test):.2f}')"
   ]
  },
  {
   "cell_type": "code",
   "execution_count": null,
   "metadata": {},
   "outputs": [],
   "source": [
    "plt.figure(figsize=(20,5))\n",
    "plt.imshow(mlp.coefs_[0],interpolation='none',cmap='viridis')\n",
    "plt.yticks(range(30),cancer.feature_names)\n",
    "plt.xlabel('columns in weight matrix')\n",
    "plt.ylabel('input feature')\n",
    "plt.colorbar()"
   ]
  },
  {
   "cell_type": "code",
   "execution_count": null,
   "metadata": {},
   "outputs": [],
   "source": [
    "from sklearn.ensemble import GradientBoostingClassifier\n",
    "from sklearn.datasets import make_circles\n",
    "X,y = make_circles(noise=.25,factor=.5,random_state=1)\n",
    "\n",
    "y_named=np.array(['blue','red'])[y]"
   ]
  },
  {
   "cell_type": "code",
   "execution_count": null,
   "metadata": {},
   "outputs": [],
   "source": [
    "X_train,X_test,y_train,y_test,y_named_train,y_named_test=train_test_split(\n",
    "    X,y,y_named,random_state=0\n",
    ")\n",
    "\n",
    "gbrt=GradientBoostingClassifier(random_state=0).fit(X_train,y_named_train)"
   ]
  },
  {
   "cell_type": "code",
   "execution_count": null,
   "metadata": {},
   "outputs": [],
   "source": [
    "gbrt.decision_function(X_test)"
   ]
  },
  {
   "cell_type": "code",
   "execution_count": null,
   "metadata": {},
   "outputs": [],
   "source": [
    "gbrt.classes_"
   ]
  },
  {
   "cell_type": "code",
   "execution_count": null,
   "metadata": {},
   "outputs": [],
   "source": [
    "fig,axes=plt.subplots(1,2,figsize=(13,5))\n",
    "mglearn.tools.plot_2d_separator(gbrt,X,ax=axes[0],alpha=.4,fill=True,cm=mglearn.cm2)\n",
    "scores_image=mglearn.tools.plot_2d_scores(gbrt,X,ax=axes[1],alpha=.4,cm=mglearn.ReBl)\n",
    "\n",
    "for ax in axes:\n",
    "    mglearn.discrete_scatter(X_test[:,0],X_test[:,1],y_test,markers='^',ax=ax)\n",
    "    mglearn.discrete_scatter(X_train[:,0],X_train[:,1],y_train,markers='o',ax=ax)\n",
    "    ax.set_xlabel('feature 0')\n",
    "    ax.set_ylabel('feature 1')\n",
    "char=plt.colorbar(scores_image,ax=axes.tolist())\n",
    "axes[0].legend([\n",
    "    'test class 0',\n",
    "    'test class 1',\n",
    "    'train class 0',\n",
    "    'train class 1'],\n",
    "    ncol=4,loc=(.1,1.1)\n",
    "    )"
   ]
  },
  {
   "cell_type": "code",
   "execution_count": null,
   "metadata": {},
   "outputs": [],
   "source": [
    "fig,axes=plt.subplots(1,2,figsize=(13,5))\n",
    "mglearn.tools.plot_2d_separator(gbrt,X,ax=axes[0],alpha=.4,fill=True,cm=mglearn.cm2)\n",
    "scores_image=mglearn.tools.plot_2d_scores(gbrt,X,ax=axes[1],alpha=.4,cm=mglearn.ReBl,function='predict_proba')\n",
    "\n",
    "for ax in axes:\n",
    "    mglearn.discrete_scatter(X_test[:,0],X_test[:,1],y_test,markers='^',ax=ax)\n",
    "    mglearn.discrete_scatter(X_train[:,0],X_train[:,1],y_train,markers='o',ax=ax)\n",
    "    ax.set_xlabel('feature 0')\n",
    "    ax.set_ylabel('feature 1')\n",
    "char=plt.colorbar(scores_image,ax=axes.tolist())\n",
    "axes[0].legend([\n",
    "    'test class 0',\n",
    "    'test class 1',\n",
    "    'train class 0',\n",
    "    'train class 1'],\n",
    "    ncol=4,loc=(.1,1.1)\n",
    "    )"
   ]
  }
 ],
 "metadata": {
  "kernelspec": {
   "display_name": ".venv",
   "language": "python",
   "name": "python3"
  },
  "language_info": {
   "codemirror_mode": {
    "name": "ipython",
    "version": 3
   },
   "file_extension": ".py",
   "mimetype": "text/x-python",
   "name": "python",
   "nbconvert_exporter": "python",
   "pygments_lexer": "ipython3",
   "version": "3.10.11"
  },
  "orig_nbformat": 4
 },
 "nbformat": 4,
 "nbformat_minor": 2
}
