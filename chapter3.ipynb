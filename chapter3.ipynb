{
 "cells": [
  {
   "cell_type": "code",
   "execution_count": null,
   "metadata": {},
   "outputs": [],
   "source": [
    "import numpy as np\n",
    "import matplotlib.pyplot as plt\n",
    "import pandas as pd\n",
    "import mglearn"
   ]
  },
  {
   "cell_type": "code",
   "execution_count": null,
   "metadata": {},
   "outputs": [],
   "source": [
    "mglearn.plots.plot_scaling()"
   ]
  },
  {
   "cell_type": "code",
   "execution_count": null,
   "metadata": {},
   "outputs": [],
   "source": [
    "from sklearn.datasets import load_breast_cancer\n",
    "from sklearn.model_selection import train_test_split\n",
    "cancer=load_breast_cancer()"
   ]
  },
  {
   "cell_type": "code",
   "execution_count": null,
   "metadata": {},
   "outputs": [],
   "source": [
    "cancer=load_breast_cancer()\n",
    "X_train,X_test,y_train,y_test=train_test_split(cancer.data,cancer.target,random_state=1)\n",
    "print(X_train.shape)\n",
    "print(X_test.shape)"
   ]
  },
  {
   "cell_type": "code",
   "execution_count": null,
   "metadata": {},
   "outputs": [],
   "source": [
    "from sklearn.preprocessing import MinMaxScaler\n",
    "scaler=MinMaxScaler()\n",
    "scaler.fit(X_train)"
   ]
  },
  {
   "cell_type": "code",
   "execution_count": null,
   "metadata": {},
   "outputs": [],
   "source": [
    "X_train_scaled=scaler.transform(X_train)\n",
    "print(X_train.min(axis=0))\n",
    "print(X_train_scaled.min(axis=0))\n",
    "\n",
    "print(X_train.max(axis=0))\n",
    "print(X_train_scaled.min(axis=0))\n",
    "\n",
    "print(np.average(X_train,axis=0))\n",
    "print(np.average(X_train_scaled,axis=0))\n",
    "print(X_train_scaled.min(axis=0))\n"
   ]
  },
  {
   "cell_type": "code",
   "execution_count": null,
   "metadata": {},
   "outputs": [],
   "source": [
    "from sklearn.datasets import make_blobs\n",
    "X,_=make_blobs(n_samples=50,centers=5,random_state=4,cluster_std=2)\n",
    "\n",
    "X_train,X_test=train_test_split(X,random_state=5,test_size=.1)\n",
    "\n",
    "scaler=MinMaxScaler().fit(X_train)\n",
    "X_train_scaled=scaler.transform(X_train)\n",
    "X_test_scaled=scaler.transform(X_test)\n",
    "\n",
    "test_scaler=MinMaxScaler().fit(X_test)\n",
    "X_test_scaled_bad=test_scaler.transform(X_test)\n",
    "\n",
    "fig,axes=plt.subplots(ncols=3,nrows=1,figsize=(9,3),tight_layout=True)\n",
    "\n",
    "datasets=[[X_train,X_test],[X_train_scaled,X_test_scaled],[X_train_scaled,X_test_scaled_bad]]\n",
    "titles=['original','correct scaled','bad scaled']\n",
    "\n",
    "for ax,data,title in zip(axes.ravel(),datasets,titles):\n",
    "    ax.scatter(data[0][:,0],data[0][:,1],color=mglearn.cm2(0),label='Training set',s=60)\n",
    "    ax.scatter(data[1][:,0],data[1][:,1],color=mglearn.cm2(1),label='Test set',s=60,marker='^')\n",
    "    ax.set_title(title)\n",
    "axes[0].legend(loc='upper left')"
   ]
  },
  {
   "cell_type": "code",
   "execution_count": null,
   "metadata": {},
   "outputs": [],
   "source": [
    "from sklearn.svm import SVC\n",
    "X_train,X_test,y_train,y_test=train_test_split(cancer.data,cancer.target,random_state=0)\n",
    "svc=SVC(C=100)\n",
    "svc.fit(X_train,y_train)\n",
    "print(f'accuracy on test : {svc.score(X_test,y_test):.2f}')"
   ]
  },
  {
   "cell_type": "code",
   "execution_count": null,
   "metadata": {},
   "outputs": [],
   "source": [
    "from sklearn.preprocessing import MinMaxScaler,StandardScaler\n",
    "\n",
    "scaler=MinMaxScaler().fit(X_train)\n",
    "X_train_scaled=scaler.transform(X_train)\n",
    "X_test_scaled=scaler.transform(X_test)\n",
    "\n",
    "svc=SVC(C=100)\n",
    "svc.fit(X_train_scaled,y_train)\n",
    "print(f'accuracy on test : {svc.score(X_test_scaled,y_test):.2f}')"
   ]
  },
  {
   "cell_type": "code",
   "execution_count": null,
   "metadata": {},
   "outputs": [],
   "source": [
    "scaler=StandardScaler().fit(X_train)\n",
    "X_train_scaled=scaler.transform(X_train)\n",
    "X_test_scaled=scaler.transform(X_test)\n",
    "\n",
    "svc=SVC(C=100)\n",
    "svc.fit(X_train_scaled,y_train)\n",
    "print(f'accuracy on test : {svc.score(X_test_scaled,y_test):.2f}')"
   ]
  },
  {
   "cell_type": "code",
   "execution_count": null,
   "metadata": {},
   "outputs": [],
   "source": [
    "mglearn.plots.plot_pca_illustration()"
   ]
  },
  {
   "cell_type": "code",
   "execution_count": null,
   "metadata": {},
   "outputs": [],
   "source": [
    "len(cancer.data[0])"
   ]
  },
  {
   "cell_type": "code",
   "execution_count": null,
   "metadata": {},
   "outputs": [],
   "source": [
    "cancer.feature_names"
   ]
  },
  {
   "cell_type": "code",
   "execution_count": null,
   "metadata": {},
   "outputs": [],
   "source": [
    "fig,axes=plt.subplots(15,2,figsize=(10,20),tight_layout=True)\n",
    "malignant=cancer.data[cancer.target==0]\n",
    "benign=cancer.data[cancer.target==1]\n",
    "ax=axes.ravel()\n",
    "\n",
    "for i in range(30):\n",
    "    _,bins=np.histogram(cancer.data[:,i],bins=50)\n",
    "    ax[i].hist(malignant[:,i],bins=bins,color=mglearn.cm3(0),alpha=.5)\n",
    "    ax[i].hist(benign[:,i],bins=bins,color=mglearn.cm3(2),alpha=.5)\n",
    "    ax[i].set_title(cancer.feature_names[i])\n",
    "    ax[i].set_yticks(())\n",
    "ax[0].set_xlabel('Feature magnitude')\n",
    "ax[0].set_ylabel('Frequency')\n",
    "ax[0].legend(['malignant','benign'],loc='best')"
   ]
  },
  {
   "cell_type": "code",
   "execution_count": null,
   "metadata": {},
   "outputs": [],
   "source": [
    "from sklearn.preprocessing import StandardScaler\n",
    "from sklearn.decomposition import PCA\n",
    "\n",
    "X_scaled=StandardScaler().fit_transform(cancer.data)\n",
    "pca=PCA(n_components=2).fit(X_scaled)\n",
    "X_pca=pca.transform(X_scaled)\n",
    "print(f'original shape : {X_scaled.shape}')\n",
    "print(f'decomposed shape : {X_pca.shape}')"
   ]
  },
  {
   "cell_type": "code",
   "execution_count": null,
   "metadata": {},
   "outputs": [],
   "source": [
    "plt.scatter(X_pca[cancer.target==0,0],X_pca[cancer.target==0,1],marker='o')\n",
    "plt.scatter(X_pca[cancer.target==1,0],X_pca[cancer.target==1,1],marker='^')\n",
    "plt.xlabel('PC1')\n",
    "plt.ylabel('PC2')\n",
    "plt.gca().set_aspect(\"equal\")\n",
    "plt.legend(['malignant','benign'],loc='best')\n"
   ]
  },
  {
   "cell_type": "code",
   "execution_count": null,
   "metadata": {},
   "outputs": [],
   "source": [
    "cancer.keys()"
   ]
  },
  {
   "cell_type": "code",
   "execution_count": null,
   "metadata": {},
   "outputs": [],
   "source": [
    "plt.matshow(pca.components_,cmap='viridis')\n",
    "plt.yticks([0,1],['PC1','PC2'])\n",
    "plt.xticks(range(len(cancer.feature_names)),cancer.feature_names,rotation=60,ha='left')\n",
    "plt.colorbar()"
   ]
  },
  {
   "cell_type": "code",
   "execution_count": null,
   "metadata": {},
   "outputs": [],
   "source": [
    "from sklearn.datasets import fetch_lfw_people\n"
   ]
  },
  {
   "cell_type": "code",
   "execution_count": null,
   "metadata": {},
   "outputs": [],
   "source": [
    "people=fetch_lfw_people(\n",
    "    min_faces_per_person=20,\n",
    "    resize=.7,\n",
    "    download_if_missing=True,\n",
    "    )\n"
   ]
  },
  {
   "cell_type": "code",
   "execution_count": null,
   "metadata": {},
   "outputs": [],
   "source": [
    "image_shape=people.images[0].shape\n",
    "fig,axes=plt.subplots(2,5,figsize=(15,8),subplot_kw={'xticks':(),'yticks':()},tight_layout=True)\n",
    "\n",
    "for tar,im,ax in zip(people.target,people.images,axes.ravel()):\n",
    "    ax.imshow(im)\n",
    "    ax.set_title(people.target_names[tar])"
   ]
  },
  {
   "cell_type": "code",
   "execution_count": null,
   "metadata": {},
   "outputs": [],
   "source": [
    "counts=np.bincount(people.target)\n",
    "for i, (count,name) in enumerate(zip(counts,people.target_names)):\n",
    "    print(f'{name:25} {count:3}',end='   ')\n",
    "    if (1+i)%3 == 0:\n",
    "        print()"
   ]
  },
  {
   "cell_type": "code",
   "execution_count": null,
   "metadata": {},
   "outputs": [],
   "source": [
    "people.target.shape"
   ]
  },
  {
   "cell_type": "code",
   "execution_count": null,
   "metadata": {},
   "outputs": [],
   "source": [
    "np.where(people.target == people.target[0])[0][:50]"
   ]
  },
  {
   "cell_type": "code",
   "execution_count": null,
   "metadata": {},
   "outputs": [],
   "source": [
    "mask = np.zeros(people.target.shape,dtype=bool)\n",
    "for target in np.unique(people.target):\n",
    "    mask[np.where(people.target == target)[0][:50]]=1\n",
    "X_people=people.data[mask]\n",
    "y_people=people.target[mask]\n",
    "X_people=X_people/255."
   ]
  },
  {
   "cell_type": "code",
   "execution_count": null,
   "metadata": {},
   "outputs": [],
   "source": [
    "from sklearn.neighbors import KNeighborsClassifier\n",
    "X_train,X_test,y_train,y_test=train_test_split(X_people,y_people,stratify=y_people,random_state=0)\n",
    "knn = KNeighborsClassifier(n_neighbors=1).fit(X_train,y_train)\n",
    "print(f'1-nn accuracy on train:{knn.score(X_train,y_train):.2f}')\n",
    "print(f'1-nn accuracy on test:{knn.score(X_test,y_test):.2f}')"
   ]
  },
  {
   "cell_type": "code",
   "execution_count": null,
   "metadata": {},
   "outputs": [],
   "source": [
    "mglearn.plots.plot_pca_whitening()"
   ]
  },
  {
   "cell_type": "code",
   "execution_count": null,
   "metadata": {},
   "outputs": [],
   "source": [
    "from sklearn.decomposition import PCA\n",
    "pca=PCA(n_components=100,whiten=True,random_state=0).fit(X_train)\n",
    "X_train_pca=pca.transform(X_train)\n",
    "X_test_pca=pca.transform(X_test)\n",
    "print(f'X_train shape : {X_train.shape}')\n",
    "print(f'X_train_pca shape : {X_train_pca.shape}')"
   ]
  },
  {
   "cell_type": "code",
   "execution_count": null,
   "metadata": {},
   "outputs": [],
   "source": [
    "knn = KNeighborsClassifier(n_neighbors=1).fit(X_train_pca,y_train)\n",
    "print(f'1-nn accuracy on train:{knn.score(X_train_pca,y_train):.2f}')\n",
    "print(f'1-nn accuracy on test:{knn.score(X_test_pca,y_test):.2f}')"
   ]
  },
  {
   "cell_type": "code",
   "execution_count": null,
   "metadata": {},
   "outputs": [],
   "source": [
    "fig,axes = plt.subplots(3,5,figsize=(15,12),subplot_kw={'xticks':(),'yticks':()})\n",
    "for i, (compornent,ax) in enumerate(zip(pca.components_,axes.ravel())):\n",
    "    ax.imshow(compornent.reshape(image_shape),cmap='viridis')\n",
    "    ax.set_title(f'{i+1}.compornent')"
   ]
  },
  {
   "cell_type": "code",
   "execution_count": null,
   "metadata": {},
   "outputs": [],
   "source": [
    "mglearn.plots.plot_pca_faces(X_train,X_test,image_shape)"
   ]
  },
  {
   "cell_type": "code",
   "execution_count": null,
   "metadata": {},
   "outputs": [],
   "source": [
    "mglearn.discrete_scatter(X_train_pca[:,0],X_train_pca[:,1],y_train)\n",
    "plt.xlabel('PC1')\n",
    "plt.ylabel('PC2')"
   ]
  },
  {
   "cell_type": "code",
   "execution_count": null,
   "metadata": {},
   "outputs": [],
   "source": [
    "mglearn.plots.plot_nmf_illustration()"
   ]
  },
  {
   "cell_type": "code",
   "execution_count": null,
   "metadata": {},
   "outputs": [],
   "source": [
    "\n",
    "(X_train,X_test,image_shape)"
   ]
  },
  {
   "cell_type": "code",
   "execution_count": null,
   "metadata": {},
   "outputs": [],
   "source": [
    "S=mglearn.datasets.make_signals()\n",
    "plt.figure(figsize=(6,1))\n",
    "plt.plot(S,'-')\n",
    "plt.xlabel('time')\n",
    "plt.ylabel('signal')"
   ]
  },
  {
   "cell_type": "code",
   "execution_count": null,
   "metadata": {},
   "outputs": [],
   "source": [
    "A=np.random.RandomState(0).uniform(size=(100,3))\n",
    "X=np.dot(S,A.T)\n",
    "print(f'Shape of measurements: {X.shape}')"
   ]
  },
  {
   "cell_type": "code",
   "execution_count": null,
   "metadata": {},
   "outputs": [],
   "source": [
    "from sklearn.decomposition import NMF,PCA\n",
    "S_ = NMF(n_components=3,random_state=42).fit_transform(X)\n",
    "H_ = PCA(n_components=3).fit_transform(X)"
   ]
  },
  {
   "cell_type": "code",
   "execution_count": null,
   "metadata": {},
   "outputs": [],
   "source": [
    "models=[X,S,S_,H_]\n",
    "names=[\n",
    "    'observations (first three data)',\n",
    "    'True source',\n",
    "    'NMF recovered',\n",
    "    'PCA recovered',\n",
    "]\n",
    "fig,axes=plt.subplots(ncols=1,nrows=4,figsize=(16,8),\n",
    "                      gridspec_kw={'hspace':.5},\n",
    "                      subplot_kw={'xticks':(),'yticks':()})\n",
    "\n",
    "for model,name,ax in zip(models,names,axes):\n",
    "    ax.set_title(name)\n",
    "    ax.plot(model[:,:3],'-')"
   ]
  },
  {
   "cell_type": "code",
   "execution_count": null,
   "metadata": {},
   "outputs": [],
   "source": [
    "from sklearn.datasets import load_digits\n",
    "digits=load_digits()\n",
    "fig,axes=plt.subplots(\n",
    "    ncols=5,\n",
    "    nrows=2,\n",
    "    figsize=(10,5),\n",
    "    subplot_kw={'xticks':(),'yticks':()}\n",
    "    )\n",
    "for ax,img in zip(axes.ravel(),digits.images):\n",
    "    ax.imshow(img)"
   ]
  },
  {
   "cell_type": "code",
   "execution_count": null,
   "metadata": {},
   "outputs": [],
   "source": []
  },
  {
   "cell_type": "code",
   "execution_count": null,
   "metadata": {},
   "outputs": [],
   "source": [
    "digit_pca=PCA(n_components=10).fit_transform(digits.data)\n",
    "plt.figure(figsize=(10,10))\n",
    "plt.xlim(digit_pca[:,0].min()-1,digit_pca[:,0].max()+1)\n",
    "plt.ylim(digit_pca[:,1].min()-1,digit_pca[:,1].max()+1)\n",
    "for i in range(len(digits.data)):\n",
    "    plt.text(\n",
    "        digit_pca[i,0],\n",
    "        digit_pca[i,1],\n",
    "        str(digits.target[i]),\n",
    "        color=plt.cm.tab10(digits.target[i]),\n",
    "        fontdict={'weight':'bold','size':9},\n",
    "        ha='center',\n",
    "        va='center'\n",
    "        )\n",
    "plt.xlabel('PC1')\n",
    "plt.ylabel('PC2')"
   ]
  },
  {
   "cell_type": "code",
   "execution_count": null,
   "metadata": {},
   "outputs": [],
   "source": [
    "from sklearn.manifold import TSNE\n",
    "digit_tsne=TSNE(random_state=42).fit_transform(digits.data)\n",
    "plt.figure(figsize=(10,10))\n",
    "plt.xlim(digit_tsne[:,0].min()-1,digit_tsne[:,0].max()+1)\n",
    "plt.ylim(digit_tsne[:,1].min()-1,digit_tsne[:,1].max()+1)\n",
    "for i in range(len(digits.data)):\n",
    "    plt.text(\n",
    "        digit_tsne[i,0],\n",
    "        digit_tsne[i,1],\n",
    "        str(digits.target[i]),\n",
    "        color=plt.cm.tab10(digits.target[i]),\n",
    "        fontdict={'weight':'bold','size':9},\n",
    "        ha='center',\n",
    "        va='center'\n",
    "        )\n",
    "plt.xlabel('PC1')\n",
    "plt.ylabel('PC2')"
   ]
  },
  {
   "cell_type": "code",
   "execution_count": null,
   "metadata": {},
   "outputs": [],
   "source": [
    "from sklearn.datasets import make_blobs\n",
    "from sklearn.cluster import KMeans\n",
    "\n",
    "X,y = make_blobs(random_state=1)\n",
    "\n",
    "kmeans=KMeans(n_clusters=3)\n",
    "kmeans.fit(X)"
   ]
  },
  {
   "cell_type": "code",
   "execution_count": null,
   "metadata": {},
   "outputs": [],
   "source": [
    "print(f'Cluster membership:{kmeans.labels_}')"
   ]
  },
  {
   "cell_type": "code",
   "execution_count": null,
   "metadata": {},
   "outputs": [],
   "source": [
    "mglearn.discrete_scatter(X[:,0],X[:,1],kmeans.labels_,markers='o')\n",
    "mglearn.discrete_scatter(\n",
    "    kmeans.cluster_centers_[:,0],kmeans.cluster_centers_[:,1],[0,1,2],markers='^',markeredgewidth=2\n",
    ")"
   ]
  },
  {
   "cell_type": "code",
   "execution_count": null,
   "metadata": {},
   "outputs": [],
   "source": [
    "fig,axes = plt.subplots(nrows=2,ncols=3,figsize=(12,6),tight_layout=True)\n",
    "\n",
    "for i,ax in enumerate(axes.ravel()):\n",
    "    d=i+1\n",
    "    kmeans=KMeans(n_clusters=d)\n",
    "    kmeans.fit(X)\n",
    "    mglearn.discrete_scatter(X[:,0],X[:,1],kmeans.labels_,markers='o',ax=ax)\n",
    "    mglearn.discrete_scatter(\n",
    "        kmeans.cluster_centers_[:,0],kmeans.cluster_centers_[:,1],range(d),markers='^',markeredgewidth=2,ax=ax)\n",
    "    ax.set_title(f'n_cluster={d}')"
   ]
  },
  {
   "cell_type": "code",
   "execution_count": null,
   "metadata": {},
   "outputs": [],
   "source": [
    "X_varied,y_varied=make_blobs(\n",
    "    n_samples=200,\n",
    "    cluster_std=[1,2.5,.5],\n",
    "    random_state=170\n",
    ")\n",
    "\n",
    "fig,axes=plt.subplots(ncols=2,figsize=(6,3))\n",
    "\n",
    "y_pred=KMeans(n_clusters=3,random_state=0).fit_predict(X_varied)\n",
    "mglearn.discrete_scatter(X_varied[:,0],X_varied[:,1],y_pred,ax=axes[0])\n",
    "mglearn.discrete_scatter(X_varied[:,0],X_varied[:,1],y_varied,ax=axes[1])\n",
    "axes[0].set_title('pred_cluster')\n",
    "axes[1].set_title('true_cluster')\n"
   ]
  },
  {
   "cell_type": "code",
   "execution_count": null,
   "metadata": {},
   "outputs": [],
   "source": [
    "X,y = make_blobs(random_state=170,n_samples=600)\n",
    "rng=np.random.RandomState(74)\n",
    "transformation=rng.normal(size=(2,2))\n",
    "X=np.dot(X,transformation)\n",
    "kmeans=KMeans(n_clusters=3).fit(X)\n",
    "y_pred=kmeans.predict(X)\n",
    "fig,axes = plt.subplots(ncols=2)\n",
    "\n",
    "axes[0].scatter(X[:,0],X[:,1],c=y_pred,alpha=.5)\n",
    "axes[0].scatter(kmeans.cluster_centers_[:,0],kmeans.cluster_centers_[:,1],c='r',marker='^')\n",
    "axes[0].set_title('kmeans n compornents = 3')\n",
    "axes[1].scatter(X[:,0],X[:,1],c=y,alpha=.5)\n",
    "axes[1].set_title('true cluster')"
   ]
  },
  {
   "cell_type": "code",
   "execution_count": null,
   "metadata": {},
   "outputs": [],
   "source": [
    "from sklearn.datasets import make_moons\n",
    "\n",
    "fig,axes = plt.subplots(ncols=3,nrows=1,figsize=(6,2))\n",
    "\n",
    "for n,ax in zip([1,.1,.01],axes):\n",
    "    X,y = make_moons(\n",
    "        n_samples=200,\n",
    "        noise=n,\n",
    "        random_state=0\n",
    "    )\n",
    "    ax.scatter(X[:,0],X[:,1],c=y)"
   ]
  },
  {
   "cell_type": "code",
   "execution_count": null,
   "metadata": {},
   "outputs": [],
   "source": [
    "X,y = make_moons(\n",
    "    n_samples=200,\n",
    "    noise=.05,\n",
    "    random_state=0\n",
    ")\n",
    "\n",
    "kmeans=KMeans(n_clusters=2).fit(X)\n",
    "y_pred=kmeans.predict(X)\n",
    "\n",
    "fig,axes=plt.subplots(1,3,figsize=(12,4))\n",
    "axes[0].scatter(X[:,0],X[:,1],c=y_pred,alpha=.5)\n",
    "axes[0].scatter(kmeans.cluster_centers_[:,0],kmeans.cluster_centers_[:,1],c='r',marker='^',s=100)\n",
    "axes[0].set_title('prediction')\n",
    "axes[1].scatter(X[:,0],X[:,1],c=y,alpha=.5)\n",
    "axes[1].set_title('true')\n",
    "\n",
    "kmeans=KMeans(n_clusters=10).fit(X)\n",
    "y_pred=kmeans.predict(X)\n",
    "\n",
    "axes[2].scatter(X[:,0],X[:,1],c=y_pred,alpha=.5)\n",
    "axes[2].scatter(kmeans.cluster_centers_[:,0],kmeans.cluster_centers_[:,1],c='r',marker='^',s=100)\n",
    "axes[2].set_title('prediction')"
   ]
  },
  {
   "cell_type": "code",
   "execution_count": null,
   "metadata": {},
   "outputs": [],
   "source": [
    "distance_features=kmeans.transform(X)\n",
    "distance_features"
   ]
  },
  {
   "cell_type": "markdown",
   "metadata": {},
   "source": [
    "次元圧縮では元の次元以下しか特長量を出せないが、クラスタリングの場合は元の次元以上のクラスタに分けて、それぞれの中心からの距離を新たな特長量にすることで次元を増やすことができる"
   ]
  },
  {
   "cell_type": "code",
   "execution_count": null,
   "metadata": {},
   "outputs": [],
   "source": [
    "mglearn.plots.plot_agglomerative_algorithm()"
   ]
  },
  {
   "cell_type": "code",
   "execution_count": null,
   "metadata": {},
   "outputs": [],
   "source": [
    "mglearn.plots.plot_agglomerative()"
   ]
  },
  {
   "cell_type": "code",
   "execution_count": null,
   "metadata": {},
   "outputs": [],
   "source": [
    "from sklearn.cluster import AgglomerativeClustering\n",
    "X,y = make_blobs(random_state=1)\n",
    "agg=AgglomerativeClustering(n_clusters=3).fit(X)\n",
    "y_pred=agg.fit_predict(X)\n",
    "\n",
    "plt.scatter(X[:,0],X[:,1],c=y_pred)\n"
   ]
  },
  {
   "cell_type": "code",
   "execution_count": null,
   "metadata": {},
   "outputs": [],
   "source": [
    "from scipy.cluster.hierarchy import dendrogram, ward\n",
    "\n",
    "X,y=make_blobs(random_state=0,n_samples=12)\n",
    "linkage_ar=ward(X)\n",
    "dendrogram(linkage_ar)\n",
    "\n",
    "ax=plt.gca()\n",
    "bounds=ax.get_xbound()\n",
    "ax.plot(bounds,[7.25,7.25],'--',c='k')\n",
    "ax.plot(bounds,[4,4],'--',c='k')\n",
    "\n",
    "ax.text(bounds[1]+1,7.25,'two clusters',va='center',fontdict={'size':15})\n",
    "ax.text(bounds[1]+1,4,'three clusters',va='center',fontdict={'size':15})\n",
    "ax.set_xlabel('sample index')\n",
    "ax.set_ylabel('cluster distance')"
   ]
  },
  {
   "cell_type": "code",
   "execution_count": null,
   "metadata": {},
   "outputs": [],
   "source": [
    "from sklearn.cluster import DBSCAN\n",
    "X,y=make_blobs(random_state=0,n_samples=12)\n",
    "\n",
    "y_pred=DBSCAN().fit_predict(X)\n",
    "\n",
    "print(f'cluster membership {y_pred}')"
   ]
  },
  {
   "cell_type": "code",
   "execution_count": null,
   "metadata": {},
   "outputs": [],
   "source": [
    "mglearn.plots.plot_dbscan()"
   ]
  },
  {
   "cell_type": "code",
   "execution_count": null,
   "metadata": {},
   "outputs": [],
   "source": [
    "X,y = make_moons(\n",
    "    n_samples=200,\n",
    "    noise=.05,\n",
    "    random_state=0\n",
    ")\n",
    "\n",
    "from sklearn.preprocessing import StandardScaler\n",
    "X_scaled=StandardScaler().fit_transform(X)\n",
    "\n",
    "min_samples=[1,5,10]\n",
    "eps=np.linspace(.1,.3,5)\n",
    "fig,axes=plt.subplots(len(min_samples),len(eps),figsize=(len(eps)*3.5,len(min_samples)*3))\n",
    "\n",
    "for ax_col,m in zip(axes,min_samples):\n",
    "    for ax,e in zip(ax_col,eps):\n",
    "        ax.set_title(f'min_samples={m} eps={e}')\n",
    "        y_pred=DBSCAN(min_samples=m,eps=e).fit_predict(X_scaled)\n",
    "        ax.scatter(X_scaled[y_pred==-1,0],X_scaled[y_pred==-1,1],c='gray')\n",
    "        ax.scatter(X_scaled[y_pred!=-1,0],X_scaled[y_pred!=-1,1],c=y_pred[y_pred!=-1])"
   ]
  }
 ],
 "metadata": {
  "kernelspec": {
   "display_name": ".venv",
   "language": "python",
   "name": "python3"
  },
  "language_info": {
   "codemirror_mode": {
    "name": "ipython",
    "version": 3
   },
   "file_extension": ".py",
   "mimetype": "text/x-python",
   "name": "python",
   "nbconvert_exporter": "python",
   "pygments_lexer": "ipython3",
   "version": "3.10.11"
  },
  "orig_nbformat": 4
 },
 "nbformat": 4,
 "nbformat_minor": 2
}
