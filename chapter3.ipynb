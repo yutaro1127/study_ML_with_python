{
 "cells": [
  {
   "cell_type": "code",
   "execution_count": null,
   "metadata": {},
   "outputs": [],
   "source": [
    "import numpy as np\n",
    "import matplotlib.pyplot as plt\n",
    "import pandas as pd\n",
    "import mglearn\n",
    "import seaborn as sns\n",
    "sns.set()"
   ]
  },
  {
   "cell_type": "code",
   "execution_count": null,
   "metadata": {},
   "outputs": [],
   "source": [
    "mglearn.plots.plot_scaling()"
   ]
  },
  {
   "cell_type": "code",
   "execution_count": null,
   "metadata": {},
   "outputs": [],
   "source": [
    "from sklearn.datasets import load_breast_cancer\n",
    "from sklearn.model_selection import train_test_split\n",
    "cancer=load_breast_cancer()\n",
    "X_train,X_test,y_train,y_test=train_test_split(cancer.data,cancer.target,random_state=1)\n",
    "print(X_train.shape)\n",
    "print(X_test.shape)"
   ]
  },
  {
   "cell_type": "code",
   "execution_count": null,
   "metadata": {},
   "outputs": [],
   "source": [
    "from sklearn.preprocessing import MinMaxScaler\n",
    "scaler=MinMaxScaler()\n",
    "scaler.fit(X_train)"
   ]
  },
  {
   "cell_type": "code",
   "execution_count": null,
   "metadata": {},
   "outputs": [],
   "source": [
    "X_train_scaled=scaler.transform(X_train)\n",
    "print(X_train.min(axis=0))\n",
    "print(X_train_scaled.min(axis=0))\n",
    "\n",
    "print(X_train.max(axis=0))\n",
    "print(X_train_scaled.min(axis=0))\n",
    "\n",
    "print(np.average(X_train,axis=0))\n",
    "print(np.average(X_train_scaled,axis=0))\n",
    "print(X_train_scaled.min(axis=0))\n"
   ]
  },
  {
   "cell_type": "code",
   "execution_count": null,
   "metadata": {},
   "outputs": [],
   "source": [
    "from sklearn.datasets import make_blobs\n",
    "X,_=make_blobs(n_samples=50,centers=5,random_state=4,cluster_std=2)\n",
    "\n",
    "X_train,X_test=train_test_split(X,random_state=5,test_size=.1)\n",
    "\n",
    "scaler=MinMaxScaler().fit(X_train)\n",
    "X_train_scaled=scaler.transform(X_train)\n",
    "X_test_scaled=scaler.transform(X_test)\n",
    "\n",
    "test_scaler=MinMaxScaler().fit(X_test)\n",
    "X_test_scaled_bad=test_scaler.transform(X_test)\n",
    "\n",
    "fig,axes=plt.subplots(ncols=3,nrows=1,figsize=(9,3),tight_layout=True)\n",
    "\n",
    "datasets=[[X_train,X_test],[X_train_scaled,X_test_scaled],[X_train_scaled,X_test_scaled_bad]]\n",
    "titles=['original','correct scaled','bad scaled']\n",
    "\n",
    "for ax,data,title in zip(axes.ravel(),datasets,titles):\n",
    "    ax.scatter(data[0][:,0],data[0][:,1],color=mglearn.cm2(0),label='Training set',s=60)\n",
    "    ax.scatter(data[1][:,0],data[1][:,1],color=mglearn.cm2(1),label='Test set',s=60,marker='^')\n",
    "    ax.set_title(title)\n",
    "axes[0].legend(loc='upper left')"
   ]
  },
  {
   "cell_type": "code",
   "execution_count": null,
   "metadata": {},
   "outputs": [],
   "source": [
    "from sklearn.svm import SVC\n",
    "X_train,X_test,y_train,y_test=train_test_split(cancer.data,cancer.target,random_state=0)\n",
    "svc=SVC(C=100)\n",
    "svc.fit(X_train,y_train)\n",
    "print(f'accuracy on test : {svc.score(X_test,y_test):.2f}')"
   ]
  },
  {
   "cell_type": "code",
   "execution_count": null,
   "metadata": {},
   "outputs": [],
   "source": [
    "from sklearn.preprocessing import MinMaxScaler,StandardScaler\n",
    "\n",
    "scaler=MinMaxScaler().fit(X_train)\n",
    "X_train_scaled=scaler.transform(X_train)\n",
    "X_test_scaled=scaler.transform(X_test)\n",
    "\n",
    "svc=SVC(C=100)\n",
    "svc.fit(X_train_scaled,y_train)\n",
    "print(f'accuracy on test : {svc.score(X_test_scaled,y_test):.2f}')"
   ]
  },
  {
   "cell_type": "code",
   "execution_count": null,
   "metadata": {},
   "outputs": [],
   "source": [
    "scaler=StandardScaler().fit(X_train)\n",
    "X_train_scaled=scaler.transform(X_train)\n",
    "X_test_scaled=scaler.transform(X_test)\n",
    "\n",
    "svc=SVC(C=100)\n",
    "svc.fit(X_train_scaled,y_train)\n",
    "print(f'accuracy on test : {svc.score(X_test_scaled,y_test):.2f}')"
   ]
  },
  {
   "cell_type": "code",
   "execution_count": null,
   "metadata": {},
   "outputs": [],
   "source": [
    "mglearn.plots.plot_pca_illustration()"
   ]
  }
 ],
 "metadata": {
  "kernelspec": {
   "display_name": ".venv",
   "language": "python",
   "name": "python3"
  },
  "language_info": {
   "codemirror_mode": {
    "name": "ipython",
    "version": 3
   },
   "file_extension": ".py",
   "mimetype": "text/x-python",
   "name": "python",
   "nbconvert_exporter": "python",
   "pygments_lexer": "ipython3",
   "version": "3.10.11"
  },
  "orig_nbformat": 4
 },
 "nbformat": 4,
 "nbformat_minor": 2
}
